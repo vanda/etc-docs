{
 "cells": [
  {
   "cell_type": "markdown",
   "metadata": {},
   "source": [
    "# 5. Photographers at the Museum\n",
    "\n",
    "```{sidebar} Datasets\n",
    "  * [V&A collections](https://collections.vam.ac.uk/) and [API](https://developers.vam.ac.uk/)\n",
    "```\n",
    "\n",
    "```{sidebar} Libraries\n",
    "  * [Python](https://www.python.org/)\n",
    "  * [Pandas](https://pandas.pydata.org/)\n",
    "  * [Vega](https://vega.github.io/vega/)\n",
    "  * [Jupyter](https://jupyter.org/)\n",
    "```\n",
    "\n",
    "The V&A began acquiring photographs in 1852, and its [collection](https://www.vam.ac.uk/collections/photographs) is now one of the largest and most important in the world. Let's take a look at which photographers are held in the (catalogued) collection.\n",
    "\n",
    "To query the photographers  in the V&A collections, we need to query object types of \"photograph\" and \"photographs\" (this is due to variations in cataloguing names) and cluster the results by 'maker'. We then show a treemap visualisation of the top 50 results for each.\n",
    "\n",
    "For a record of the results, we also generate a sample of the photographers and some of their works as a PDF."
   ]
  },
  {
   "cell_type": "markdown",
   "metadata": {},
   "source": [
    "The following code (click to expand) setups the treemap drawing"
   ]
  },
  {
   "cell_type": "code",
   "execution_count": 4,
   "metadata": {
    "tags": [
     "hide-cell"
    ]
   },
   "outputs": [],
   "source": [
    "from IPython.display import display\n",
    "\n",
    "def Vega(spec):\n",
    "    bundle = {}\n",
    "    bundle['application/vnd.vega.v5+json'] = spec\n",
    "    display(bundle, raw=True)\n",
    "\n",
    "def treemap(clusters, cluster_name):\n",
    "    \n",
    "  clusters_json = [{\"id\": index+1, \"name\": [x[\"value\"], \"%d objects\" % x[\"count\"]], \"parent\": '0', \"value\": x[\"count\"]} for index, x in enumerate(clusters)]\n",
    "  clusters_json.insert(0, {\"id\": 0, \"value\": 0, \"name\": cluster_name})\n",
    "    \n",
    "  Vega({\n",
    "  \"$schema\": \"https://vega.github.io/schema/vega/v5.json\",\n",
    "  \"description\": \"An example of treemap layout for hierarchical data.\",\n",
    "  \"width\": 1200,\n",
    "  \"height\": 800,\n",
    "  \"padding\": 2.5,\n",
    "  \"autosize\": \"none\",\n",
    "  \"data\": [\n",
    "    {\n",
    "      \"name\": \"tree\",\n",
    "      \"values\": clusters_json,\n",
    "      \"transform\": [\n",
    "        {\n",
    "          \"type\": \"stratify\",\n",
    "          \"key\": \"id\",\n",
    "          \"parentKey\": \"parent\"\n",
    "        },\n",
    "        {\n",
    "          \"type\": \"treemap\",\n",
    "          \"field\": \"value\",\n",
    "          \"sort\": {\"field\": \"value\", \"order\": \"descending\"},\n",
    "          \"round\": True,\n",
    "          \"size\": [{\"signal\": \"width\"}, {\"signal\": \"height\"}]\n",
    "        }\n",
    "      ]\n",
    "    },\n",
    "    {\n",
    "      \"name\": \"nodes\",\n",
    "      \"source\": \"tree\",\n",
    "      \"transform\": [{ \"type\": \"filter\", \"expr\": \"datum.children\" }]\n",
    "    },\n",
    "    {\n",
    "      \"name\": \"leaves\",\n",
    "      \"source\": \"tree\",\n",
    "      \"transform\": [{ \"type\": \"filter\", \"expr\": \"datum.parent == 0\" }]\n",
    "    }\n",
    "  ],\n",
    "\n",
    "  \"scales\": [\n",
    "    {\n",
    "      \"name\": \"color\",\n",
    "      \"type\": \"ordinal\",\n",
    "      \"domain\": {\"data\": \"nodes\", \"field\": \"name\"},\n",
    "      \"range\": [\n",
    "        \"#3182bd\", \"#6baed6\", \"#9ecae1\", \"#c6dbef\", \"#e6550d\",\n",
    "        \"#fd8d3c\", \"#fdae6b\", \"#fdd0a2\", \"#31a354\", \"#74c476\",\n",
    "        \"#a1d99b\", \"#c7e9c0\", \"#756bb1\", \"#9e9ac8\", \"#bcbddc\",\n",
    "        \"#dadaeb\", \"#636363\", \"#969696\", \"#bdbdbd\", \"#d9d9d9\"\n",
    "      ]\n",
    "    },\n",
    "    {\n",
    "      \"name\": \"size\",\n",
    "      \"type\": \"ordinal\",\n",
    "      \"domain\": [0, 1, 2, 3],\n",
    "      \"range\": [256, 10, 20, 14]\n",
    "    },\n",
    "    {\n",
    "      \"name\": \"opacity\",\n",
    "      \"type\": \"ordinal\",\n",
    "      \"domain\": [0, 1, 2, 3],\n",
    "      \"range\": [0.15, 0.5, 0.8, 1.0]\n",
    "    }\n",
    "  ],\n",
    "\n",
    "  \"marks\": [\n",
    "    {\n",
    "      \"type\": \"rect\",\n",
    "      \"from\": {\"data\": \"nodes\"},\n",
    "      \"interactive\": False,\n",
    "      \"encode\": {\n",
    "        \"enter\": {\n",
    "          \"fill\": {\"scale\": \"color\", \"field\": \"name\"}\n",
    "        },\n",
    "        \"update\": {\n",
    "          \"x\": {\"field\": \"x0\"},\n",
    "          \"y\": {\"field\": \"y0\"},\n",
    "          \"x2\": {\"field\": \"x1\"},\n",
    "          \"y2\": {\"field\": \"y1\"}\n",
    "        }\n",
    "      }\n",
    "    },\n",
    "    {\n",
    "      \"type\": \"rect\",\n",
    "      \"from\": {\"data\": \"leaves\"},\n",
    "      \"encode\": {\n",
    "        \"enter\": {\n",
    "          \"stroke\": {\"value\": \"#fff\"}\n",
    "        },\n",
    "        \"update\": {\n",
    "          \"x\": {\"field\": \"x0\"},\n",
    "          \"y\": {\"field\": \"y0\"},\n",
    "          \"x2\": {\"field\": \"x1\"},\n",
    "          \"y2\": {\"field\": \"y1\"},\n",
    "          \"fill\": {\"value\": \"transparent\"},\n",
    "          \"href\": {\"value\": \"https://collections.vam.ac.uk/\"}\n",
    "        },\n",
    "        \"hover\": {\n",
    "          \"fill\": {\"value\": \"green\"}\n",
    "        }\n",
    "      }\n",
    "    },\n",
    "    {\n",
    "      \"type\": \"text\",\n",
    "      \"from\": {\"data\": \"leaves\"},\n",
    "      \"interactive\": False,\n",
    "      \"encode\": {\n",
    "        \"enter\": {\n",
    "          \"font\": {\"value\": \"Helvetica Neue, Arial\"},\n",
    "          \"align\": {\"value\": \"center\"},\n",
    "          \"baseline\": {\"value\": \"middle\"},\n",
    "          \"fill\": {\"value\": \"#000\"},\n",
    "          \"text\": {\"field\": \"name\"},\n",
    "          \"fontSize\": {\"scale\": \"size\", \"field\": \"depth\"},\n",
    "          \"fillOpacity\": {\"scale\": \"opacity\", \"field\": \"depth\"}\n",
    "        },\n",
    "        \"update\": {\n",
    "          \"x\": {\"signal\": \"0.5 * (datum.x0 + datum.x1)\"},\n",
    "          \"y\": {\"signal\": \"0.5 * (datum.y0 + datum.y1)\"}\n",
    "        }\n",
    "      }\n",
    "    }\n",
    "  ]\n",
    "}\n",
    ")"
   ]
  },
  {
   "cell_type": "markdown",
   "metadata": {},
   "source": [
    "## Data Visualisation"
   ]
  },
  {
   "cell_type": "markdown",
   "metadata": {},
   "source": [
    "Now we query the API for the object types and show them as a treemap"
   ]
  },
  {
   "cell_type": "markdown",
   "metadata": {},
   "source": [
    "### Photograph"
   ]
  },
  {
   "cell_type": "code",
   "execution_count": 5,
   "metadata": {},
   "outputs": [
    {
     "data": {
      "application/vnd.vega.v5+json": {
       "$schema": "https://vega.github.io/schema/vega/v5.json",
       "autosize": "none",
       "data": [
        {
         "name": "tree",
         "transform": [
          {
           "key": "id",
           "parentKey": "parent",
           "type": "stratify"
          },
          {
           "field": "value",
           "round": true,
           "size": [
            {
             "signal": "width"
            },
            {
             "signal": "height"
            }
           ],
           "sort": {
            "field": "value",
            "order": "descending"
           },
           "type": "treemap"
          }
         ],
         "values": [
          {
           "children": 50,
           "depth": 0,
           "id": 0,
           "name": "Photographers",
           "value": 0,
           "x0": 0,
           "x1": 1200,
           "y0": 0,
           "y1": 800
          },
          {
           "children": 0,
           "depth": 1,
           "id": 1,
           "name": [
            "Unknown",
            "12272 objects"
           ],
           "parent": "0",
           "value": 12272,
           "x0": 0,
           "x1": 432,
           "y0": 0,
           "y1": 500
          },
          {
           "children": 0,
           "depth": 1,
           "id": 2,
           "name": [
            "Francis Frith",
            "4025 objects"
           ],
           "parent": "0",
           "value": 4025,
           "x0": 0,
           "x1": 432,
           "y0": 500,
           "y1": 664
          },
          {
           "children": 0,
           "depth": 1,
           "id": 3,
           "name": [
            "K.A.C. Creswell",
            "3336 objects"
           ],
           "parent": "0",
           "value": 3336,
           "x0": 0,
           "x1": 432,
           "y0": 664,
           "y1": 800
          },
          {
           "children": 0,
           "depth": 1,
           "id": 4,
           "name": [
            "Thompson, Charles Thurston",
            "2296 objects"
           ],
           "parent": "0",
           "value": 2296,
           "x0": 432,
           "x1": 608,
           "y0": 0,
           "y1": 229
          },
          {
           "children": 0,
           "depth": 1,
           "id": 5,
           "name": [
            "Nature Conservancy Council",
            "1765 objects"
           ],
           "parent": "0",
           "value": 1765,
           "x0": 608,
           "x1": 743,
           "y0": 0,
           "y1": 229
          },
          {
           "children": 0,
           "depth": 1,
           "id": 6,
           "name": [
            "London Stereoscopic and Photographic Company",
            "1713 objects"
           ],
           "parent": "0",
           "value": 1713,
           "x0": 743,
           "x1": 874,
           "y0": 0,
           "y1": 229
          },
          {
           "children": 0,
           "depth": 1,
           "id": 7,
           "name": [
            "Stone, Benjamin (Sir)",
            "1532 objects"
           ],
           "parent": "0",
           "value": 1532,
           "x0": 874,
           "x1": 992,
           "y0": 0,
           "y1": 229
          },
          {
           "children": 0,
           "depth": 1,
           "id": 8,
           "name": [
            "Parker, John Henry",
            "1452 objects"
           ],
           "parent": "0",
           "value": 1452,
           "x0": 992,
           "x1": 1103,
           "y0": 0,
           "y1": 229
          },
          {
           "children": 0,
           "depth": 1,
           "id": 9,
           "name": [
            "Thompson, Stephen",
            "1265 objects"
           ],
           "parent": "0",
           "value": 1265,
           "x0": 1103,
           "x1": 1200,
           "y0": 0,
           "y1": 229
          },
          {
           "children": 0,
           "depth": 1,
           "id": 10,
           "name": [
            "Moffat, Curtis",
            "1184 objects"
           ],
           "parent": "0",
           "value": 1184,
           "x0": 432,
           "x1": 594,
           "y0": 229,
           "y1": 358
          },
          {
           "children": 0,
           "depth": 1,
           "id": 11,
           "name": [
            "Anton Kusters",
            "1079 objects"
           ],
           "parent": "0",
           "value": 1079,
           "x0": 432,
           "x1": 594,
           "y0": 358,
           "y1": 475
          },
          {
           "children": 0,
           "depth": 1,
           "id": 12,
           "name": [
            "Scamell, George (Mr)",
            "1035 objects"
           ],
           "parent": "0",
           "value": 1035,
           "x0": 432,
           "x1": 594,
           "y0": 475,
           "y1": 587
          },
          {
           "children": 0,
           "depth": 1,
           "id": 13,
           "name": [
            "W. & D. Downey",
            "997 objects"
           ],
           "parent": "0",
           "value": 997,
           "x0": 432,
           "x1": 594,
           "y0": 587,
           "y1": 695
          },
          {
           "children": 0,
           "depth": 1,
           "id": 14,
           "name": [
            "Beaton, Cecil (Sir)",
            "971 objects"
           ],
           "parent": "0",
           "value": 971,
           "x0": 432,
           "x1": 594,
           "y0": 695,
           "y1": 800
          },
          {
           "children": 0,
           "depth": 1,
           "id": 15,
           "name": [
            "Silvy, Camille-Léon-Louis",
            "912 objects"
           ],
           "parent": "0",
           "value": 912,
           "x0": 594,
           "x1": 742,
           "y0": 229,
           "y1": 338
          },
          {
           "children": 0,
           "depth": 1,
           "id": 16,
           "name": [
            "Franck",
            "838 objects"
           ],
           "parent": "0",
           "value": 838,
           "x0": 594,
           "x1": 742,
           "y0": 338,
           "y1": 437
          },
          {
           "children": 0,
           "depth": 1,
           "id": 17,
           "name": [
            "Elliott & Fry",
            "806 objects"
           ],
           "parent": "0",
           "value": 806,
           "x0": 594,
           "x1": 742,
           "y0": 437,
           "y1": 533
          },
          {
           "children": 0,
           "depth": 1,
           "id": 18,
           "name": [
            "Cameron, Julia Margaret",
            "806 objects"
           ],
           "parent": "0",
           "value": 806,
           "x0": 594,
           "x1": 742,
           "y0": 533,
           "y1": 629
          },
          {
           "children": 0,
           "depth": 1,
           "id": 19,
           "name": [
            "Tripe, Linnaeus",
            "745 objects"
           ],
           "parent": "0",
           "value": 745,
           "x0": 594,
           "x1": 742,
           "y0": 629,
           "y1": 717
          },
          {
           "children": 0,
           "depth": 1,
           "id": 20,
           "name": [
            "Judges Ltd",
            "698 objects"
           ],
           "parent": "0",
           "value": 698,
           "x0": 594,
           "x1": 742,
           "y0": 717,
           "y1": 800
          },
          {
           "children": 0,
           "depth": 1,
           "id": 21,
           "name": [
            "Beau, Adolphe",
            "678 objects"
           ],
           "parent": "0",
           "value": 678,
           "x0": 742,
           "x1": 838,
           "y0": 229,
           "y1": 354
          },
          {
           "children": 0,
           "depth": 1,
           "id": 22,
           "name": [
            "Barchard, Francis",
            "671 objects"
           ],
           "parent": "0",
           "value": 671,
           "x0": 838,
           "x1": 932,
           "y0": 229,
           "y1": 354
          },
          {
           "children": 0,
           "depth": 1,
           "id": 23,
           "name": [
            "Window & Grove",
            "646 objects"
           ],
           "parent": "0",
           "value": 646,
           "x0": 932,
           "x1": 1023,
           "y0": 229,
           "y1": 354
          },
          {
           "children": 0,
           "depth": 1,
           "id": 24,
           "name": [
            "Paneth, F.A.",
            "640 objects"
           ],
           "parent": "0",
           "value": 640,
           "x0": 1023,
           "x1": 1113,
           "y0": 229,
           "y1": 354
          },
          {
           "children": 0,
           "depth": 1,
           "id": 25,
           "name": [
            "Fratelli Alinari",
            "615 objects"
           ],
           "parent": "0",
           "value": 615,
           "x0": 1113,
           "x1": 1200,
           "y0": 229,
           "y1": 354
          },
          {
           "children": 0,
           "depth": 1,
           "id": 26,
           "name": [
            "Department of Science and Art of the Committee of Council on Education",
            "606 objects"
           ],
           "parent": "0",
           "value": 606,
           "x0": 742,
           "x1": 879,
           "y0": 354,
           "y1": 432
          },
          {
           "children": 0,
           "depth": 1,
           "id": 27,
           "name": [
            "Atget, Jean-Eugène-Auguste",
            "599 objects"
           ],
           "parent": "0",
           "value": 599,
           "x0": 742,
           "x1": 879,
           "y0": 432,
           "y1": 509
          },
          {
           "children": 0,
           "depth": 1,
           "id": 28,
           "name": [
            "Holleben, Kurt von (Dr.)",
            "577 objects"
           ],
           "parent": "0",
           "value": 577,
           "x0": 742,
           "x1": 879,
           "y0": 509,
           "y1": 584
          },
          {
           "children": 0,
           "depth": 1,
           "id": 29,
           "name": [
            "Cartier-Bresson, Henri",
            "570 objects"
           ],
           "parent": "0",
           "value": 570,
           "x0": 742,
           "x1": 879,
           "y0": 584,
           "y1": 657
          },
          {
           "children": 0,
           "depth": 1,
           "id": 30,
           "name": [
            "Paul Martin",
            "563 objects"
           ],
           "parent": "0",
           "value": 563,
           "x0": 742,
           "x1": 879,
           "y0": 657,
           "y1": 730
          },
          {
           "children": 0,
           "depth": 1,
           "id": 31,
           "name": [
            "Fenton, Roger",
            "546 objects"
           ],
           "parent": "0",
           "value": 546,
           "x0": 742,
           "x1": 879,
           "y0": 730,
           "y1": 800
          },
          {
           "children": 0,
           "depth": 1,
           "id": 32,
           "name": [
            "Laurent, Jean",
            "537 objects"
           ],
           "parent": "0",
           "value": 537,
           "x0": 879,
           "x1": 961,
           "y0": 354,
           "y1": 469
          },
          {
           "children": 0,
           "depth": 1,
           "id": 33,
           "name": [
            "Clementina, Lady Hawarden",
            "536 objects"
           ],
           "parent": "0",
           "value": 536,
           "x0": 961,
           "x1": 1043,
           "y0": 354,
           "y1": 469
          },
          {
           "children": 0,
           "depth": 1,
           "id": 34,
           "name": [
            "Bingley, Godfrey (Mr)",
            "525 objects"
           ],
           "parent": "0",
           "value": 525,
           "x0": 1043,
           "x1": 1123,
           "y0": 354,
           "y1": 469
          },
          {
           "children": 0,
           "depth": 1,
           "id": 35,
           "name": [
            "Laffon, Louise",
            "505 objects"
           ],
           "parent": "0",
           "value": 505,
           "x0": 1123,
           "x1": 1200,
           "y0": 354,
           "y1": 469
          },
          {
           "children": 0,
           "depth": 1,
           "id": 36,
           "name": [
            "Evans, Walker",
            "493 objects"
           ],
           "parent": "0",
           "value": 493,
           "x0": 879,
           "x1": 948,
           "y0": 469,
           "y1": 595
          },
          {
           "children": 0,
           "depth": 1,
           "id": 37,
           "name": [
            "Bourne, Samuel",
            "464 objects"
           ],
           "parent": "0",
           "value": 464,
           "x0": 948,
           "x1": 1012,
           "y0": 469,
           "y1": 595
          },
          {
           "children": 0,
           "depth": 1,
           "id": 38,
           "name": [
            "Coburn, Alvin Langdon",
            "451 objects"
           ],
           "parent": "0",
           "value": 451,
           "x0": 1012,
           "x1": 1075,
           "y0": 469,
           "y1": 595
          },
          {
           "children": 0,
           "depth": 1,
           "id": 39,
           "name": [
            "Potter, Rupert",
            "447 objects"
           ],
           "parent": "0",
           "value": 447,
           "x0": 1075,
           "x1": 1138,
           "y0": 469,
           "y1": 595
          },
          {
           "children": 0,
           "depth": 1,
           "id": 40,
           "name": [
            "Rupert Potter",
            "445 objects"
           ],
           "parent": "0",
           "value": 445,
           "x0": 1138,
           "x1": 1200,
           "y0": 469,
           "y1": 595
          },
          {
           "children": 0,
           "depth": 1,
           "id": 41,
           "name": [
            "London Stereoscopic Company",
            "430 objects"
           ],
           "parent": "0",
           "value": 430,
           "x0": 879,
           "x1": 985,
           "y0": 595,
           "y1": 666
          },
          {
           "children": 0,
           "depth": 1,
           "id": 42,
           "name": [
            "Cowper, Isabel Agnes",
            "422 objects"
           ],
           "parent": "0",
           "value": 422,
           "x0": 879,
           "x1": 985,
           "y0": 666,
           "y1": 736
          },
          {
           "children": 0,
           "depth": 1,
           "id": 43,
           "name": [
            "Pitcairn-Knowles, Andrew",
            "389 objects"
           ],
           "parent": "0",
           "value": 389,
           "x0": 879,
           "x1": 985,
           "y0": 736,
           "y1": 800
          },
          {
           "children": 0,
           "depth": 1,
           "id": 44,
           "name": [
            "South Kensington Museum",
            "387 objects"
           ],
           "parent": "0",
           "value": 387,
           "x0": 985,
           "x1": 1083,
           "y0": 595,
           "y1": 665
          },
          {
           "children": 0,
           "depth": 1,
           "id": 45,
           "name": [
            "Fincham, Henry Walter (Mr)",
            "383 objects"
           ],
           "parent": "0",
           "value": 383,
           "x0": 985,
           "x1": 1083,
           "y0": 665,
           "y1": 734
          },
          {
           "children": 0,
           "depth": 1,
           "id": 46,
           "name": [
            "Brandt, Bill",
            "363 objects"
           ],
           "parent": "0",
           "value": 363,
           "x0": 985,
           "x1": 1083,
           "y0": 734,
           "y1": 800
          },
          {
           "children": 0,
           "depth": 1,
           "id": 47,
           "name": [
            "Sasha",
            "351 objects"
           ],
           "parent": "0",
           "value": 351,
           "x0": 1083,
           "x1": 1142,
           "y0": 595,
           "y1": 700
          },
          {
           "children": 0,
           "depth": 1,
           "id": 48,
           "name": [
            "Hollyer, Frederick",
            "345 objects"
           ],
           "parent": "0",
           "value": 345,
           "x0": 1142,
           "x1": 1200,
           "y0": 595,
           "y1": 700
          },
          {
           "children": 0,
           "depth": 1,
           "id": 49,
           "name": [
            "Adamson, Robert",
            "335 objects"
           ],
           "parent": "0",
           "value": 335,
           "x0": 1083,
           "x1": 1200,
           "y0": 700,
           "y1": 750
          },
          {
           "children": 0,
           "depth": 1,
           "id": 50,
           "name": [
            "Evans, Clayton",
            "334 objects"
           ],
           "parent": "0",
           "value": 334,
           "x0": 1083,
           "x1": 1200,
           "y0": 750,
           "y1": 800
          }
         ]
        },
        {
         "name": "nodes",
         "source": "tree",
         "transform": [
          {
           "expr": "datum.children",
           "type": "filter"
          }
         ]
        },
        {
         "name": "leaves",
         "source": "tree",
         "transform": [
          {
           "expr": "datum.parent == 0",
           "type": "filter"
          }
         ]
        }
       ],
       "description": "An example of treemap layout for hierarchical data.",
       "height": 800,
       "marks": [
        {
         "encode": {
          "enter": {
           "fill": {
            "field": "name",
            "scale": "color"
           }
          },
          "update": {
           "x": {
            "field": "x0"
           },
           "x2": {
            "field": "x1"
           },
           "y": {
            "field": "y0"
           },
           "y2": {
            "field": "y1"
           }
          }
         },
         "from": {
          "data": "nodes"
         },
         "interactive": false,
         "type": "rect"
        },
        {
         "encode": {
          "enter": {
           "stroke": {
            "value": "#fff"
           }
          },
          "hover": {
           "fill": {
            "value": "green"
           }
          },
          "update": {
           "fill": {
            "value": "transparent"
           },
           "href": {
            "value": "https://collections.vam.ac.uk/"
           },
           "x": {
            "field": "x0"
           },
           "x2": {
            "field": "x1"
           },
           "y": {
            "field": "y0"
           },
           "y2": {
            "field": "y1"
           }
          }
         },
         "from": {
          "data": "leaves"
         },
         "type": "rect"
        },
        {
         "encode": {
          "enter": {
           "align": {
            "value": "center"
           },
           "baseline": {
            "value": "middle"
           },
           "fill": {
            "value": "#000"
           },
           "fillOpacity": {
            "field": "depth",
            "scale": "opacity"
           },
           "font": {
            "value": "Helvetica Neue, Arial"
           },
           "fontSize": {
            "field": "depth",
            "scale": "size"
           },
           "text": {
            "field": "name"
           }
          },
          "update": {
           "x": {
            "signal": "0.5 * (datum.x0 + datum.x1)"
           },
           "y": {
            "signal": "0.5 * (datum.y0 + datum.y1)"
           }
          }
         },
         "from": {
          "data": "leaves"
         },
         "interactive": false,
         "type": "text"
        }
       ],
       "padding": 2.5,
       "scales": [
        {
         "domain": {
          "data": "nodes",
          "field": "name"
         },
         "name": "color",
         "range": [
          "#3182bd",
          "#6baed6",
          "#9ecae1",
          "#c6dbef",
          "#e6550d",
          "#fd8d3c",
          "#fdae6b",
          "#fdd0a2",
          "#31a354",
          "#74c476",
          "#a1d99b",
          "#c7e9c0",
          "#756bb1",
          "#9e9ac8",
          "#bcbddc",
          "#dadaeb",
          "#636363",
          "#969696",
          "#bdbdbd",
          "#d9d9d9"
         ],
         "type": "ordinal"
        },
        {
         "domain": [
          0,
          1,
          2,
          3
         ],
         "name": "size",
         "range": [
          256,
          10,
          20,
          14
         ],
         "type": "ordinal"
        },
        {
         "domain": [
          0,
          1,
          2,
          3
         ],
         "name": "opacity",
         "range": [
          0.15,
          0.5,
          0.8,
          1
         ],
         "type": "ordinal"
        }
       ],
       "width": 1200
      },
      "image/png": "[encoded data removed]"
     },
     "metadata": {},
     "output_type": "display_data"
    }
   ],
   "source": [
    "import requests\n",
    "req = requests.get('https://api.vam.ac.uk/v2/objects/clusters/maker/search?kw_object_type=Photograph&cluster_size=50')\n",
    "treemap(req.json(), \"Photographers\")"
   ]
  },
  {
   "cell_type": "markdown",
   "metadata": {},
   "source": [
    "### Photographs"
   ]
  },
  {
   "cell_type": "code",
   "execution_count": 6,
   "metadata": {},
   "outputs": [
    {
     "data": {
      "application/vnd.vega.v5+json": {
       "$schema": "https://vega.github.io/schema/vega/v5.json",
       "autosize": "none",
       "data": [
        {
         "name": "tree",
         "transform": [
          {
           "key": "id",
           "parentKey": "parent",
           "type": "stratify"
          },
          {
           "field": "value",
           "round": true,
           "size": [
            {
             "signal": "width"
            },
            {
             "signal": "height"
            }
           ],
           "sort": {
            "field": "value",
            "order": "descending"
           },
           "type": "treemap"
          }
         ],
         "values": [
          {
           "children": 15,
           "depth": 0,
           "id": 0,
           "name": "Photographer",
           "value": 0,
           "x0": 0,
           "x1": 1200,
           "y0": 0,
           "y1": 800
          },
          {
           "children": 0,
           "depth": 1,
           "id": 1,
           "name": [
            "Stein, Simon Leonard",
            "22 objects"
           ],
           "parent": "0",
           "value": 22,
           "x0": 0,
           "x1": 677,
           "y0": 0,
           "y1": 800
          },
          {
           "children": 0,
           "depth": 1,
           "id": 2,
           "name": [
            "Daido Moriyama",
            "3 objects"
           ],
           "parent": "0",
           "value": 3,
           "x0": 677,
           "x1": 938,
           "y0": 0,
           "y1": 282
          },
          {
           "children": 0,
           "depth": 1,
           "id": 3,
           "name": [
            "Judges Ltd",
            "2 objects"
           ],
           "parent": "0",
           "value": 2,
           "x0": 938,
           "x1": 1113,
           "y0": 0,
           "y1": 282
          },
          {
           "children": 0,
           "depth": 1,
           "id": 4,
           "name": [
            "Brigman, Anne Wardrope",
            "1 objects"
           ],
           "parent": "0",
           "value": 1,
           "x0": 1113,
           "x1": 1200,
           "y0": 0,
           "y1": 282
          },
          {
           "children": 0,
           "depth": 1,
           "id": 5,
           "name": [
            "Judge, Fred",
            "1 objects"
           ],
           "parent": "0",
           "value": 1,
           "x0": 677,
           "x1": 867,
           "y0": 282,
           "y1": 412
          },
          {
           "children": 0,
           "depth": 1,
           "id": 6,
           "name": [
            "Johnston, Frances Benjamin",
            "1 objects"
           ],
           "parent": "0",
           "value": 1,
           "x0": 677,
           "x1": 867,
           "y0": 412,
           "y1": 541
          },
          {
           "children": 0,
           "depth": 1,
           "id": 7,
           "name": [
            "alderman",
            "1 objects"
           ],
           "parent": "0",
           "value": 1,
           "x0": 677,
           "x1": 867,
           "y0": 541,
           "y1": 671
          },
          {
           "children": 0,
           "depth": 1,
           "id": 8,
           "name": [
            "frederick lawrence",
            "1 objects"
           ],
           "parent": "0",
           "value": 1,
           "x0": 677,
           "x1": 867,
           "y0": 671,
           "y1": 800
          },
          {
           "children": 0,
           "depth": 1,
           "id": 9,
           "name": [
            "stein",
            "1 objects"
           ],
           "parent": "0",
           "value": 1,
           "x0": 867,
           "x1": 978,
           "y0": 282,
           "y1": 504
          },
          {
           "children": 0,
           "depth": 1,
           "id": 10,
           "name": [
            "proctor",
            "1 objects"
           ],
           "parent": "0",
           "value": 1,
           "x0": 978,
           "x1": 1089,
           "y0": 282,
           "y1": 504
          },
          {
           "children": 0,
           "depth": 1,
           "id": 11,
           "name": [
            "Stokes, Walter P.",
            "1 objects"
           ],
           "parent": "0",
           "value": 1,
           "x0": 1089,
           "x1": 1200,
           "y0": 282,
           "y1": 504
          },
          {
           "children": 0,
           "depth": 1,
           "id": 12,
           "name": [
            "Tingley, George E.",
            "1 objects"
           ],
           "parent": "0",
           "value": 1,
           "x0": 867,
           "x1": 1034,
           "y0": 504,
           "y1": 652
          },
          {
           "children": 0,
           "depth": 1,
           "id": 13,
           "name": [
            "The Garo Studio",
            "1 objects"
           ],
           "parent": "0",
           "value": 1,
           "x0": 867,
           "x1": 1034,
           "y0": 652,
           "y1": 800
          },
          {
           "children": 0,
           "depth": 1,
           "id": 14,
           "name": [
            "Strauss, J.C.",
            "1 objects"
           ],
           "parent": "0",
           "value": 1,
           "x0": 1034,
           "x1": 1200,
           "y0": 504,
           "y1": 652
          },
          {
           "children": 0,
           "depth": 1,
           "id": 15,
           "name": [
            "Button, Percy Norman",
            "1 objects"
           ],
           "parent": "0",
           "value": 1,
           "x0": 1034,
           "x1": 1200,
           "y0": 652,
           "y1": 800
          }
         ]
        },
        {
         "name": "nodes",
         "source": "tree",
         "transform": [
          {
           "expr": "datum.children",
           "type": "filter"
          }
         ]
        },
        {
         "name": "leaves",
         "source": "tree",
         "transform": [
          {
           "expr": "datum.parent == 0",
           "type": "filter"
          }
         ]
        }
       ],
       "description": "An example of treemap layout for hierarchical data.",
       "height": 800,
       "marks": [
        {
         "encode": {
          "enter": {
           "fill": {
            "field": "name",
            "scale": "color"
           }
          },
          "update": {
           "x": {
            "field": "x0"
           },
           "x2": {
            "field": "x1"
           },
           "y": {
            "field": "y0"
           },
           "y2": {
            "field": "y1"
           }
          }
         },
         "from": {
          "data": "nodes"
         },
         "interactive": false,
         "type": "rect"
        },
        {
         "encode": {
          "enter": {
           "stroke": {
            "value": "#fff"
           }
          },
          "hover": {
           "fill": {
            "value": "green"
           }
          },
          "update": {
           "fill": {
            "value": "transparent"
           },
           "href": {
            "value": "https://collections.vam.ac.uk/"
           },
           "x": {
            "field": "x0"
           },
           "x2": {
            "field": "x1"
           },
           "y": {
            "field": "y0"
           },
           "y2": {
            "field": "y1"
           }
          }
         },
         "from": {
          "data": "leaves"
         },
         "type": "rect"
        },
        {
         "encode": {
          "enter": {
           "align": {
            "value": "center"
           },
           "baseline": {
            "value": "middle"
           },
           "fill": {
            "value": "#000"
           },
           "fillOpacity": {
            "field": "depth",
            "scale": "opacity"
           },
           "font": {
            "value": "Helvetica Neue, Arial"
           },
           "fontSize": {
            "field": "depth",
            "scale": "size"
           },
           "text": {
            "field": "name"
           }
          },
          "update": {
           "x": {
            "signal": "0.5 * (datum.x0 + datum.x1)"
           },
           "y": {
            "signal": "0.5 * (datum.y0 + datum.y1)"
           }
          }
         },
         "from": {
          "data": "leaves"
         },
         "interactive": false,
         "type": "text"
        }
       ],
       "padding": 2.5,
       "scales": [
        {
         "domain": {
          "data": "nodes",
          "field": "name"
         },
         "name": "color",
         "range": [
          "#3182bd",
          "#6baed6",
          "#9ecae1",
          "#c6dbef",
          "#e6550d",
          "#fd8d3c",
          "#fdae6b",
          "#fdd0a2",
          "#31a354",
          "#74c476",
          "#a1d99b",
          "#c7e9c0",
          "#756bb1",
          "#9e9ac8",
          "#bcbddc",
          "#dadaeb",
          "#636363",
          "#969696",
          "#bdbdbd",
          "#d9d9d9"
         ],
         "type": "ordinal"
        },
        {
         "domain": [
          0,
          1,
          2,
          3
         ],
         "name": "size",
         "range": [
          256,
          10,
          20,
          14
         ],
         "type": "ordinal"
        },
        {
         "domain": [
          0,
          1,
          2,
          3
         ],
         "name": "opacity",
         "range": [
          0.15,
          0.5,
          0.8,
          1
         ],
         "type": "ordinal"
        }
       ],
       "width": 1200
      },
      "image/png": "[encoded data removed]"
     },
     "metadata": {},
     "output_type": "display_data"
    }
   ],
   "source": [
    "import requests\n",
    "req = requests.get('https://api.vam.ac.uk/v2/objects/clusters/maker/search?kw_object_type=Photographs&cluster_size=50')\n",
    "treemap(req.json(), \"Photographer\")"
   ]
  },
  {
   "cell_type": "markdown",
   "metadata": {},
   "source": [
    "## Saving as CSV\n",
    "\n",
    "At present we do not have a custom CSV response for cluster endpoints, this is something that might be added in a future version of the API. The response at the moment will return the identifier ('id'), a descriptive term ('value') and the count of matching object records ('count')."
   ]
  },
  {
   "cell_type": "code",
   "execution_count": 7,
   "metadata": {},
   "outputs": [
    {
     "data": {
      "text/html": [
       "<div>\n",
       "<style scoped>\n",
       "    .dataframe tbody tr th:only-of-type {\n",
       "        vertical-align: middle;\n",
       "    }\n",
       "\n",
       "    .dataframe tbody tr th {\n",
       "        vertical-align: top;\n",
       "    }\n",
       "\n",
       "    .dataframe thead th {\n",
       "        text-align: right;\n",
       "    }\n",
       "</style>\n",
       "<table border=\"1\" class=\"dataframe\">\n",
       "  <thead>\n",
       "    <tr style=\"text-align: right;\">\n",
       "      <th></th>\n",
       "      <th>id</th>\n",
       "      <th>value</th>\n",
       "      <th>count</th>\n",
       "      <th>count_max_error</th>\n",
       "      <th>link</th>\n",
       "    </tr>\n",
       "  </thead>\n",
       "  <tbody>\n",
       "    <tr>\n",
       "      <th>0</th>\n",
       "      <td>A1848</td>\n",
       "      <td>Unknown</td>\n",
       "      <td>12272</td>\n",
       "      <td>0</td>\n",
       "      <td>https://collections.vam.ac.uk/search/?id_perso...</td>\n",
       "    </tr>\n",
       "    <tr>\n",
       "      <th>1</th>\n",
       "      <td>A6403</td>\n",
       "      <td>Francis Frith</td>\n",
       "      <td>4025</td>\n",
       "      <td>0</td>\n",
       "      <td>https://collections.vam.ac.uk/search/?id_perso...</td>\n",
       "    </tr>\n",
       "    <tr>\n",
       "      <th>2</th>\n",
       "      <td>AUTH334543</td>\n",
       "      <td>K.A.C. Creswell</td>\n",
       "      <td>3336</td>\n",
       "      <td>0</td>\n",
       "      <td>https://collections.vam.ac.uk/search/?id_perso...</td>\n",
       "    </tr>\n",
       "    <tr>\n",
       "      <th>3</th>\n",
       "      <td>N3687</td>\n",
       "      <td>Thompson, Charles Thurston</td>\n",
       "      <td>2296</td>\n",
       "      <td>0</td>\n",
       "      <td>https://collections.vam.ac.uk/search/?id_perso...</td>\n",
       "    </tr>\n",
       "    <tr>\n",
       "      <th>4</th>\n",
       "      <td>AUTH391620</td>\n",
       "      <td>Nature Conservancy Council</td>\n",
       "      <td>1765</td>\n",
       "      <td>0</td>\n",
       "      <td>https://collections.vam.ac.uk/search/?id_perso...</td>\n",
       "    </tr>\n",
       "    <tr>\n",
       "      <th>5</th>\n",
       "      <td>A5970</td>\n",
       "      <td>London Stereoscopic and Photographic Company</td>\n",
       "      <td>1713</td>\n",
       "      <td>0</td>\n",
       "      <td>https://collections.vam.ac.uk/search/?id_perso...</td>\n",
       "    </tr>\n",
       "    <tr>\n",
       "      <th>6</th>\n",
       "      <td>A4801</td>\n",
       "      <td>Stone, Benjamin (Sir)</td>\n",
       "      <td>1532</td>\n",
       "      <td>0</td>\n",
       "      <td>https://collections.vam.ac.uk/search/?id_perso...</td>\n",
       "    </tr>\n",
       "    <tr>\n",
       "      <th>7</th>\n",
       "      <td>AUTH325233</td>\n",
       "      <td>Parker, John Henry</td>\n",
       "      <td>1452</td>\n",
       "      <td>0</td>\n",
       "      <td>https://collections.vam.ac.uk/search/?id_perso...</td>\n",
       "    </tr>\n",
       "    <tr>\n",
       "      <th>8</th>\n",
       "      <td>AUTH335751</td>\n",
       "      <td>Thompson, Stephen</td>\n",
       "      <td>1265</td>\n",
       "      <td>0</td>\n",
       "      <td>https://collections.vam.ac.uk/search/?id_perso...</td>\n",
       "    </tr>\n",
       "    <tr>\n",
       "      <th>9</th>\n",
       "      <td>A12876</td>\n",
       "      <td>Moffat, Curtis</td>\n",
       "      <td>1184</td>\n",
       "      <td>0</td>\n",
       "      <td>https://collections.vam.ac.uk/search/?id_perso...</td>\n",
       "    </tr>\n",
       "  </tbody>\n",
       "</table>\n",
       "</div>"
      ],
      "text/plain": [
       "           id                                         value  count  \\\n",
       "0       A1848                                       Unknown  12272   \n",
       "1       A6403                                 Francis Frith   4025   \n",
       "2  AUTH334543                               K.A.C. Creswell   3336   \n",
       "3       N3687                    Thompson, Charles Thurston   2296   \n",
       "4  AUTH391620                    Nature Conservancy Council   1765   \n",
       "5       A5970  London Stereoscopic and Photographic Company   1713   \n",
       "6       A4801                         Stone, Benjamin (Sir)   1532   \n",
       "7  AUTH325233                            Parker, John Henry   1452   \n",
       "8  AUTH335751                             Thompson, Stephen   1265   \n",
       "9      A12876                                Moffat, Curtis   1184   \n",
       "\n",
       "   count_max_error                                               link  \n",
       "0                0  https://collections.vam.ac.uk/search/?id_perso...  \n",
       "1                0  https://collections.vam.ac.uk/search/?id_perso...  \n",
       "2                0  https://collections.vam.ac.uk/search/?id_perso...  \n",
       "3                0  https://collections.vam.ac.uk/search/?id_perso...  \n",
       "4                0  https://collections.vam.ac.uk/search/?id_perso...  \n",
       "5                0  https://collections.vam.ac.uk/search/?id_perso...  \n",
       "6                0  https://collections.vam.ac.uk/search/?id_perso...  \n",
       "7                0  https://collections.vam.ac.uk/search/?id_perso...  \n",
       "8                0  https://collections.vam.ac.uk/search/?id_perso...  \n",
       "9                0  https://collections.vam.ac.uk/search/?id_perso...  "
      ]
     },
     "execution_count": 7,
     "metadata": {},
     "output_type": "execute_result"
    }
   ],
   "source": [
    "import pandas as pd\n",
    "df_photograph = pd.read_json('https://api.vam.ac.uk/v2/objects/clusters/maker/search?kw_object_type=Photograph&cluster_size=100', orient='records')\n",
    "df_photograph[\"link\"] = \"https://collections.vam.ac.uk/search/?id_person=\" + df_photograph['id']\n",
    "df_photograph.to_csv(\"photograph-top-100-link.csv\")\n",
    "df_photograph.head(10)"
   ]
  },
  {
   "cell_type": "code",
   "execution_count": 8,
   "metadata": {},
   "outputs": [],
   "source": [
    "\n",
    "import pandas as pd\n",
    "df_photographs = pd.read_json('https://api.vam.ac.uk/v2/objects/clusters/maker/search?kw_object_type=photographs&cluster_size=100', orient='records')\n",
    "# Making it easier for ourselves later on\n",
    "df_photographs[\"link\"] = \"https://collections.vam.ac.uk/search/?id_person=\" + df_photographs['id']\n",
    "df_photographs.to_csv(\"photographs-top-100-link.csv\")"
   ]
  },
  {
   "cell_type": "code",
   "execution_count": 10,
   "metadata": {},
   "outputs": [],
   "source": [
    "import requests\n",
    "req = requests.get('https://api.vam.ac.uk/v2/objects/clusters/maker/search?kw_object_type=Photograph&cluster_size=50')\n",
    "top50_photographers = req.json()"
   ]
  },
  {
   "cell_type": "markdown",
   "metadata": {},
   "source": [
    "## Generating PDF sample\n",
    "\n",
    "A possibly useful way to look at the data, for those who don't want to just see spreadsheets and data tables, is to construct a PDF with a sample of objects for each photograph. This code (drawn from reportlab documentation) generates a very simple PDF with images of 5 objects for the first 10 photographers."
   ]
  },
  {
   "cell_type": "code",
   "execution_count": 23,
   "metadata": {},
   "outputs": [],
   "source": [
    "from reportlab.pdfgen import canvas\n",
    "from reportlab.platypus import SimpleDocTemplate, Paragraph, Spacer, Image, Table, TableStyle\n",
    "from reportlab.lib.styles import getSampleStyleSheet\n",
    "from reportlab.rl_config import defaultPageSize\n",
    "from reportlab.lib.units import inch\n",
    "import PIL\n",
    "from io import BytesIO\n",
    "import requests\n",
    "import pandas as pd\n",
    "\n",
    "PAGE_HEIGHT=defaultPageSize[1]; \n",
    "PAGE_WIDTH=defaultPageSize[0]\n",
    "styles = getSampleStyleSheet()\n",
    "top100_photographs = \"\"\n",
    "\n",
    "Title = \"V&A Photographers - Top 50\"\n",
    "pageinfo = \"vam-api-data-exploration-5\"\n",
    "\n",
    "def myFirstPage(canvas, doc): \n",
    "    canvas.saveState() \n",
    "    canvas.setFont('Times-Bold',16)  \n",
    "    canvas.drawCentredString(PAGE_WIDTH/2.0, PAGE_HEIGHT-108, Title) \n",
    "    canvas.setFont('Times-Roman',9) \n",
    "    canvas.drawString(inch, 0.75 * inch, \"First Page / %s\" % pageinfo) \n",
    "    canvas.restoreState()\n",
    "\n",
    "def myLaterPages(canvas, doc): \n",
    "    canvas.saveState()  \n",
    "    canvas.setFont('Times-Roman',9)   \n",
    "    canvas.drawString(inch, 0.75 * inch, \"Page %d %s\" % (doc.page, pageinfo)) \n",
    "    canvas.restoreState()\n",
    "\n",
    "chart_style = TableStyle([('ALIGN', (0, 0), (-1, -1), 'CENTER')])\n",
    "\n",
    "def build_doc():  \n",
    "    doc = SimpleDocTemplate(\"photographers-samples.pdf\") \n",
    "    Story = [Spacer(1,2*inch)]  \n",
    "    style = styles[\"Normal\"]  \n",
    "    \n",
    "    i = 0\n",
    "    for photographer in top50_photographers:\n",
    "        photographer_name = photographer['value']   \n",
    "        photographer_id = photographer['id']\n",
    "        \n",
    "        # Retrieve an image to show, update URL to point directly to thumbnail derivative\n",
    "        query_url = \"https://api.vam.ac.uk/v2/objects/search?id_maker=%s&images_exist=1&response_format=csv&page_size=20\" % photographer_id\n",
    "        photograph_objects = pd.read_csv(query_url)\n",
    "        IIIF_IMAGE_URL = \"https://framemark.vam.ac.uk/collections/%s/full/!100,100/0/default.jpg\"\n",
    "        if len(photograph_objects) < 1:\n",
    "            continue\n",
    "\n",
    "        p = Paragraph(photographer_name, style)     \n",
    "        Story.append(p)   \n",
    "        Story.append(Spacer(1,0.4*inch)) \n",
    "            \n",
    "        photograph_objects._primaryImageId = [IIIF_IMAGE_URL % item for item in photograph_objects._primaryImageId]      \n",
    "\n",
    "        r = requests.get(photograph_objects.iloc[0]._primaryImageId)\n",
    "        image1 = Image(BytesIO(r.content), width=inch, height=inch)\n",
    "        if not pd.isna(photograph_objects.iloc[0]._primaryTitle):\n",
    "          object_link = Paragraph('<link href=\"https://collections.vam.ac.uk/item/%s\">%s</link>' % (photograph_objects.iloc[0].systemNumber, photograph_objects.iloc[0]._primaryTitle))\n",
    "        else:\n",
    "          object_link = Paragraph('<link href=\"https://collections.vam.ac.uk/item/%s\">%s</link>' % (photograph_objects.iloc[0].systemNumber, photograph_objects.iloc[0].objectType))\n",
    "        \n",
    "        r = requests.get(photograph_objects.iloc[1]._primaryImageId)\n",
    "        image2 = Image(BytesIO(r.content), width=inch, height=inch)\n",
    "        if not pd.isna(photograph_objects.iloc[0]._primaryTitle):\n",
    "          object_link2 = Paragraph('<link href=\"https://collections.vam.ac.uk/item/%s\">%s</link>' % (photograph_objects.iloc[1].systemNumber, photograph_objects.iloc[1]._primaryTitle))\n",
    "        else:\n",
    "          object_link2 = Paragraph('<link href=\"https://collections.vam.ac.uk/item/%s\">%s</link>' % (photograph_objects.iloc[1].systemNumber, photograph_objects.iloc[1].objectType))        \n",
    "    \n",
    "        \n",
    "        r = requests.get(photograph_objects.iloc[2]._primaryImageId)\n",
    "        image3 = Image(BytesIO(r.content), width=inch, height=inch)\n",
    "        if not pd.isna(photograph_objects.iloc[0]._primaryTitle):\n",
    "          object_link3 = Paragraph('<link href=\"https://collections.vam.ac.uk/item/%s\">%s</link>' % (photograph_objects.iloc[2].systemNumber, photograph_objects.iloc[2]._primaryTitle))\n",
    "        else:\n",
    "          object_link3 = Paragraph('<link href=\"https://collections.vam.ac.uk/item/%s\">%s</link>' % (photograph_objects.iloc[2].systemNumber, photograph_objects.iloc[2].objectType))\n",
    "            \n",
    "        r = requests.get(photograph_objects.iloc[3]._primaryImageId)\n",
    "        image4 = Image(BytesIO(r.content), width=inch, height=inch)\n",
    "        if not pd.isna(photograph_objects.iloc[0]._primaryTitle):\n",
    "          object_link4 = Paragraph('<link href=\"https://collections.vam.ac.uk/item/%s\">%s</link>' % (photograph_objects.iloc[3].systemNumber, photograph_objects.iloc[3]._primaryTitle))\n",
    "        else:\n",
    "          object_link4 = Paragraph('<link href=\"https://collections.vam.ac.uk/item/%s\">%s</link>' % (photograph_objects.iloc[3].systemNumber, photograph_objects.iloc[3].objectType))\n",
    "            \n",
    "        r = requests.get(photograph_objects.iloc[4]._primaryImageId)\n",
    "        image5 = Image(BytesIO(r.content), width=inch, height=inch)\n",
    "        if not pd.isna(photograph_objects.iloc[0]._primaryTitle):\n",
    "          object_link5 = Paragraph('<link href=\"https://collections.vam.ac.uk/item/%s\">%s</link>' % (photograph_objects.iloc[4].systemNumber, photograph_objects.iloc[4]._primaryTitle))\n",
    "        else:\n",
    "          object_link5 = Paragraph('<link href=\"https://collections.vam.ac.uk/item/%s\">%s</link>' % (photograph_objects.iloc[4].systemNumber, photograph_objects.iloc[4].objectType))        \n",
    "        \n",
    "        Story.append(Table([[image1, image2, image3, image4, image5], [object_link, object_link2, object_link3, object_link4, object_link5]],\n",
    "                     colWidths=[inch, inch, inch, inch, inch],\n",
    "                     rowHeights=[ 0.75*inch, 0.25*inch], style=chart_style))\n",
    "        \n",
    "        Story.append(Spacer(1,0.2*inch)) \n",
    "        if i > 9:\n",
    "            break\n",
    "        else:\n",
    "            i += 1\n",
    "      \n",
    "    doc.build(Story, onFirstPage=myFirstPage, onLaterPages=myLaterPages)\n",
    " \n",
    "req = requests.get('https://api.vam.ac.uk/v2/objects/clusters/maker/search?kw_object_type=Photograph&cluster_size=50')\n",
    "top50_photographers = req.json()\n",
    "\n",
    "build_doc()\n",
    "    \n"
   ]
  },
  {
   "cell_type": "code",
   "execution_count": null,
   "metadata": {
    "tags": [
     "hide-cell"
    ]
   },
   "outputs": [],
   "source": [
    "# DO NOT REMOVE This code is just here to force Jupyterbook to generate the diagrams as PNGs above. It's hidden from the output\n",
    "\n",
    "import altair as alt\n",
    "import plotly as px\n",
    "\n",
    "data = px.data.iris()\n",
    "data.head()\n",
    "\n",
    "alt.Chart(data=data).mark_point().encode(\n",
    "    x=\"sepal_width\",\n",
    "    y=\"sepal_length\",\n",
    "    color=\"species\",\n",
    "    size='sepal_length'\n",
    ")"
   ]
  },
  {
   "cell_type": "code",
   "execution_count": null,
   "metadata": {},
   "outputs": [],
   "source": [
    "# Notebook Updates\n",
    "\n",
    "## 24 June 2024\n",
    "\n",
    "  * Revised report generation code to be slightly better output (still can be improved!)"
   ]
  }
 ],
 "metadata": {
  "kernelspec": {
   "display_name": "Python 3 (ipykernel)",
   "language": "python",
   "name": "python3"
  },
  "language_info": {
   "codemirror_mode": {
    "name": "ipython",
    "version": 3
   },
   "file_extension": ".py",
   "mimetype": "text/x-python",
   "name": "python",
   "nbconvert_exporter": "python",
   "pygments_lexer": "ipython3",
   "version": "3.12.3"
  }
 },
 "nbformat": 4,
 "nbformat_minor": 4
}
