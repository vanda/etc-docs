{
 "cells": [
  {
   "cell_type": "markdown",
   "metadata": {},
   "source": [
    "# 3. Curious Machines\n",
    "\n",
    "```{sidebar} Datasets\n",
    "  * [V&A](https://collections.vam.ac.uk/)\n",
    "```  \n",
    "\n",
    "The [Living with Machines](https://livingwithmachines.ac.uk/) project at the [Turing Institute](https://www.turing.ac.uk/) and the [British Library](https://bl.uk/) is looking how our relationship with machines evolved in the period from 1780 to 1914, looking at newspaper reports and other documentary sources held in the British Library collections.\n",
    "\n",
    "As a companion piece to this serious project, let's also explore how machines are documented historically in the V&A collections. \n",
    "\n",
    "To do this, we need run a query for any objects containing the word \"machine\" from within the period. We're going to focus on 1780 to 1820, as there are many machine made objects from later in the century that obscure some of these earlier results (and as this is just an example demonstrating our [API](https://developers.vam.ac.uk/), the fact we cherry picking the data to ensure it's interesting for you the reader should not trouble us too much)"
   ]
  },
  {
   "cell_type": "markdown",
   "metadata": {},
   "source": [
    "## V&A Collections"
   ]
  },
  {
   "cell_type": "markdown",
   "metadata": {},
   "source": [
    "To find the relevant records, we will need to pass the following parameters to the [API](https://developers.vam.ac.uk):\n",
    "\n",
    "  * q=machine - We want to query for the word \"machine\" appearing anywhere in the record\n",
    "  * year_made_from=1780 - Showing objects made tom 1780\n",
    "  * year_made_to=1820 - To objects made upto 1820\n",
    "  \n",
    "We also specify we want the results in CSV format for ease of use with [pandas](pandas.pydata.org/), and we want 80 results to give a good sample size."
   ]
  },
  {
   "cell_type": "code",
   "execution_count": 1,
   "metadata": {},
   "outputs": [
    {
     "data": {
      "text/html": [
       "<div>\n",
       "<style scoped>\n",
       "    .dataframe tbody tr th:only-of-type {\n",
       "        vertical-align: middle;\n",
       "    }\n",
       "\n",
       "    .dataframe tbody tr th {\n",
       "        vertical-align: top;\n",
       "    }\n",
       "\n",
       "    .dataframe thead th {\n",
       "        text-align: right;\n",
       "    }\n",
       "</style>\n",
       "<table border=\"1\" class=\"dataframe\">\n",
       "  <thead>\n",
       "    <tr style=\"text-align: right;\">\n",
       "      <th></th>\n",
       "      <th>accessionNumber</th>\n",
       "      <th>accessionYear</th>\n",
       "      <th>systemNumber</th>\n",
       "      <th>objectType</th>\n",
       "      <th>_primaryTitle</th>\n",
       "      <th>_primaryPlace</th>\n",
       "      <th>_primaryMaker__name</th>\n",
       "      <th>_primaryMaker__association</th>\n",
       "      <th>_primaryDate</th>\n",
       "      <th>_primaryImageId</th>\n",
       "      <th>_sampleMaterial</th>\n",
       "      <th>_sampleTechnique</th>\n",
       "      <th>_sampleStyle</th>\n",
       "      <th>_currentLocation__displayName</th>\n",
       "      <th>_objectContentWarning</th>\n",
       "      <th>_imageContentWarning</th>\n",
       "    </tr>\n",
       "  </thead>\n",
       "  <tbody>\n",
       "    <tr>\n",
       "      <th>65</th>\n",
       "      <td>W.60-1989</td>\n",
       "      <td>1989</td>\n",
       "      <td>O12466</td>\n",
       "      <td>Mould</td>\n",
       "      <td>NaN</td>\n",
       "      <td>London</td>\n",
       "      <td>Unknown</td>\n",
       "      <td>NaN</td>\n",
       "      <td>19th century</td>\n",
       "      <td>2017JY9916</td>\n",
       "      <td>Wood</td>\n",
       "      <td>Hand carved</td>\n",
       "      <td>NaN</td>\n",
       "      <td>in store</td>\n",
       "      <td>False</td>\n",
       "      <td>False</td>\n",
       "    </tr>\n",
       "    <tr>\n",
       "      <th>32</th>\n",
       "      <td>T.15&amp;A-1966</td>\n",
       "      <td>1966</td>\n",
       "      <td>O361052</td>\n",
       "      <td>Pair of gloves</td>\n",
       "      <td>NaN</td>\n",
       "      <td>England</td>\n",
       "      <td>Unknown</td>\n",
       "      <td>NaN</td>\n",
       "      <td>1800-1815</td>\n",
       "      <td>2019LT7644</td>\n",
       "      <td>NaN</td>\n",
       "      <td>NaN</td>\n",
       "      <td>NaN</td>\n",
       "      <td>in store</td>\n",
       "      <td>False</td>\n",
       "      <td>False</td>\n",
       "    </tr>\n",
       "    <tr>\n",
       "      <th>47</th>\n",
       "      <td>T.278-1986</td>\n",
       "      <td>1986</td>\n",
       "      <td>O353232</td>\n",
       "      <td>Cap (headgear)</td>\n",
       "      <td>NaN</td>\n",
       "      <td>England</td>\n",
       "      <td>Unknown</td>\n",
       "      <td>NaN</td>\n",
       "      <td>1810-1815</td>\n",
       "      <td>2020MR1400</td>\n",
       "      <td>cotton (textile)</td>\n",
       "      <td>machine made netting</td>\n",
       "      <td>NaN</td>\n",
       "      <td>In store</td>\n",
       "      <td>False</td>\n",
       "      <td>False</td>\n",
       "    </tr>\n",
       "    <tr>\n",
       "      <th>41</th>\n",
       "      <td>M.53-1945</td>\n",
       "      <td>1945</td>\n",
       "      <td>O73609</td>\n",
       "      <td>Cup</td>\n",
       "      <td>NaN</td>\n",
       "      <td>Scotland</td>\n",
       "      <td>Unknown</td>\n",
       "      <td>NaN</td>\n",
       "      <td>Early 19th century</td>\n",
       "      <td>2017JX1868</td>\n",
       "      <td>NaN</td>\n",
       "      <td>NaN</td>\n",
       "      <td>NaN</td>\n",
       "      <td>On display in the Scottish Design Galleries, V...</td>\n",
       "      <td>False</td>\n",
       "      <td>False</td>\n",
       "    </tr>\n",
       "    <tr>\n",
       "      <th>11</th>\n",
       "      <td>T.303-1990</td>\n",
       "      <td>1990</td>\n",
       "      <td>O366292</td>\n",
       "      <td>Fichu</td>\n",
       "      <td>NaN</td>\n",
       "      <td>France</td>\n",
       "      <td>Unknown</td>\n",
       "      <td>NaN</td>\n",
       "      <td>19th century</td>\n",
       "      <td>2018LC0415</td>\n",
       "      <td>silk (textile)</td>\n",
       "      <td>machine-made lace making</td>\n",
       "      <td>NaN</td>\n",
       "      <td>In store</td>\n",
       "      <td>False</td>\n",
       "      <td>False</td>\n",
       "    </tr>\n",
       "  </tbody>\n",
       "</table>\n",
       "</div>"
      ],
      "text/plain": [
       "   accessionNumber  accessionYear systemNumber      objectType _primaryTitle  \\\n",
       "65       W.60-1989           1989       O12466           Mould           NaN   \n",
       "32     T.15&A-1966           1966      O361052  Pair of gloves           NaN   \n",
       "47      T.278-1986           1986      O353232  Cap (headgear)           NaN   \n",
       "41       M.53-1945           1945       O73609             Cup           NaN   \n",
       "11      T.303-1990           1990      O366292           Fichu           NaN   \n",
       "\n",
       "   _primaryPlace _primaryMaker__name _primaryMaker__association  \\\n",
       "65        London             Unknown                        NaN   \n",
       "32       England             Unknown                        NaN   \n",
       "47       England             Unknown                        NaN   \n",
       "41      Scotland             Unknown                        NaN   \n",
       "11        France             Unknown                        NaN   \n",
       "\n",
       "          _primaryDate _primaryImageId   _sampleMaterial  \\\n",
       "65        19th century      2017JY9916              Wood   \n",
       "32           1800-1815      2019LT7644               NaN   \n",
       "47           1810-1815      2020MR1400  cotton (textile)   \n",
       "41  Early 19th century      2017JX1868               NaN   \n",
       "11        19th century      2018LC0415    silk (textile)   \n",
       "\n",
       "            _sampleTechnique _sampleStyle  \\\n",
       "65               Hand carved          NaN   \n",
       "32                       NaN          NaN   \n",
       "47      machine made netting          NaN   \n",
       "41                       NaN          NaN   \n",
       "11  machine-made lace making          NaN   \n",
       "\n",
       "                        _currentLocation__displayName  _objectContentWarning  \\\n",
       "65                                           in store                  False   \n",
       "32                                           in store                  False   \n",
       "47                                           In store                  False   \n",
       "41  On display in the Scottish Design Galleries, V...                  False   \n",
       "11                                           In store                  False   \n",
       "\n",
       "    _imageContentWarning  \n",
       "65                 False  \n",
       "32                 False  \n",
       "47                 False  \n",
       "41                 False  \n",
       "11                 False  "
      ]
     },
     "execution_count": 1,
     "metadata": {},
     "output_type": "execute_result"
    }
   ],
   "source": [
    "import requests\n",
    "import pandas as pd\n",
    "lwm_df = pd.read_csv(\"https://api.vam.ac.uk/v2/objects/search?q=machine&page=1&year_made_from=1780&year_made_to=1820&response_format=csv&page_size=80\")\n",
    "lwm_df.sample(5)"
   ]
  },
  {
   "cell_type": "markdown",
   "metadata": {},
   "source": [
    "## Graphing Machines\n",
    "\n",
    "Let's look at that in a graph now to more easily see what types of object mentioning 'machine' were most popular from that time period."
   ]
  },
  {
   "cell_type": "code",
   "execution_count": 2,
   "metadata": {},
   "outputs": [
    {
     "data": {
      "text/html": [
       "\n",
       "<style>\n",
       "  #altair-viz-91f9a17934b54d46bd2efc6150dab562.vega-embed {\n",
       "    width: 100%;\n",
       "    display: flex;\n",
       "  }\n",
       "\n",
       "  #altair-viz-91f9a17934b54d46bd2efc6150dab562.vega-embed details,\n",
       "  #altair-viz-91f9a17934b54d46bd2efc6150dab562.vega-embed details summary {\n",
       "    position: relative;\n",
       "  }\n",
       "</style>\n",
       "<div id=\"altair-viz-91f9a17934b54d46bd2efc6150dab562\"></div>\n",
       "<script type=\"text/javascript\">\n",
       "  var VEGA_DEBUG = (typeof VEGA_DEBUG == \"undefined\") ? {} : VEGA_DEBUG;\n",
       "  (function(spec, embedOpt){\n",
       "    let outputDiv = document.currentScript.previousElementSibling;\n",
       "    if (outputDiv.id !== \"altair-viz-91f9a17934b54d46bd2efc6150dab562\") {\n",
       "      outputDiv = document.getElementById(\"altair-viz-91f9a17934b54d46bd2efc6150dab562\");\n",
       "    }\n",
       "    const paths = {\n",
       "      \"vega\": \"https://cdn.jsdelivr.net/npm/vega@5?noext\",\n",
       "      \"vega-lib\": \"https://cdn.jsdelivr.net/npm/vega-lib?noext\",\n",
       "      \"vega-lite\": \"https://cdn.jsdelivr.net/npm/vega-lite@5.17.0?noext\",\n",
       "      \"vega-embed\": \"https://cdn.jsdelivr.net/npm/vega-embed@6?noext\",\n",
       "    };\n",
       "\n",
       "    function maybeLoadScript(lib, version) {\n",
       "      var key = `${lib.replace(\"-\", \"\")}_version`;\n",
       "      return (VEGA_DEBUG[key] == version) ?\n",
       "        Promise.resolve(paths[lib]) :\n",
       "        new Promise(function(resolve, reject) {\n",
       "          var s = document.createElement('script');\n",
       "          document.getElementsByTagName(\"head\")[0].appendChild(s);\n",
       "          s.async = true;\n",
       "          s.onload = () => {\n",
       "            VEGA_DEBUG[key] = version;\n",
       "            return resolve(paths[lib]);\n",
       "          };\n",
       "          s.onerror = () => reject(`Error loading script: ${paths[lib]}`);\n",
       "          s.src = paths[lib];\n",
       "        });\n",
       "    }\n",
       "\n",
       "    function showError(err) {\n",
       "      outputDiv.innerHTML = `<div class=\"error\" style=\"color:red;\">${err}</div>`;\n",
       "      throw err;\n",
       "    }\n",
       "\n",
       "    function displayChart(vegaEmbed) {\n",
       "      vegaEmbed(outputDiv, spec, embedOpt)\n",
       "        .catch(err => showError(`Javascript Error: ${err.message}<br>This usually means there's a typo in your chart specification. See the javascript console for the full traceback.`));\n",
       "    }\n",
       "\n",
       "    if(typeof define === \"function\" && define.amd) {\n",
       "      requirejs.config({paths});\n",
       "      require([\"vega-embed\"], displayChart, err => showError(`Error loading script: ${err.message}`));\n",
       "    } else {\n",
       "      maybeLoadScript(\"vega\", \"5\")\n",
       "        .then(() => maybeLoadScript(\"vega-lite\", \"5.17.0\"))\n",
       "        .then(() => maybeLoadScript(\"vega-embed\", \"6\"))\n",
       "        .catch(showError)\n",
       "        .then(() => displayChart(vegaEmbed));\n",
       "    }\n",
       "  })({\"config\": {\"view\": {\"continuousWidth\": 300, \"continuousHeight\": 300}}, \"layer\": [{\"mark\": {\"type\": \"bar\"}, \"encoding\": {\"x\": {\"field\": \"count\", \"type\": \"quantitative\"}, \"y\": {\"field\": \"value\", \"type\": \"ordinal\"}}}, {\"mark\": {\"type\": \"text\", \"align\": \"left\", \"baseline\": \"middle\", \"dx\": 3}, \"encoding\": {\"text\": {\"field\": \"count\", \"type\": \"quantitative\"}, \"x\": {\"field\": \"count\", \"type\": \"quantitative\"}, \"y\": {\"field\": \"value\", \"type\": \"ordinal\"}}}], \"data\": {\"name\": \"data-063d7228f950b012ab87ecb1bdf05ccb\"}, \"height\": 1000, \"title\": \"Objects mentioning machine from 1780 to 1820\", \"$schema\": \"https://vega.github.io/schema/vega-lite/v5.17.0.json\", \"datasets\": {\"data-063d7228f950b012ab87ecb1bdf05ccb\": [{\"id\": \"Mould\", \"value\": \"Mould\", \"count\": 55, \"count_max_error\": 0}, {\"id\": \"Engraving\", \"value\": \"Engraving\", \"count\": 51, \"count_max_error\": 0}, {\"id\": \"Dress fabric\", \"value\": \"Dress fabric\", \"count\": 29, \"count_max_error\": 0}, {\"id\": \"Print\", \"value\": \"Print\", \"count\": 21, \"count_max_error\": 0}, {\"id\": \"Border\", \"value\": \"Border\", \"count\": 20, \"count_max_error\": 0}, {\"id\": \"Photograph\", \"value\": \"Photograph\", \"count\": 12, \"count_max_error\": 0}, {\"id\": \"Cover\", \"value\": \"Cover\", \"count\": 8, \"count_max_error\": 0}, {\"id\": \"Furnishing fabric\", \"value\": \"Furnishing fabric\", \"count\": 8, \"count_max_error\": 0}, {\"id\": \"Wallpaper\", \"value\": \"Wallpaper\", \"count\": 8, \"count_max_error\": 0}, {\"id\": \"Cap\", \"value\": \"Cap\", \"count\": 7, \"count_max_error\": 0}, {\"id\": \"Pair of stockings\", \"value\": \"Pair of stockings\", \"count\": 7, \"count_max_error\": 0}, {\"id\": \"Evening dress\", \"value\": \"Evening dress\", \"count\": 6, \"count_max_error\": 0}, {\"id\": \"Gown\", \"value\": \"Gown\", \"count\": 6, \"count_max_error\": 0}, {\"id\": \"Sugar bowl\", \"value\": \"Sugar bowl\", \"count\": 6, \"count_max_error\": 0}, {\"id\": \"Fichu\", \"value\": \"Fichu\", \"count\": 5, \"count_max_error\": 0}, {\"id\": \"Prayer mat\", \"value\": \"Prayer mat\", \"count\": 5, \"count_max_error\": 0}, {\"id\": \"Cap (headgear)\", \"value\": \"Cap (headgear)\", \"count\": 4, \"count_max_error\": 0}, {\"id\": \"Coat\", \"value\": \"Coat\", \"count\": 4, \"count_max_error\": 0}, {\"id\": \"Collar (neckwear)\", \"value\": \"Collar (neckwear)\", \"count\": 4, \"count_max_error\": 0}, {\"id\": \"Hanging\", \"value\": \"Hanging\", \"count\": 4, \"count_max_error\": 0}, {\"id\": \"Scarf\", \"value\": \"Scarf\", \"count\": 4, \"count_max_error\": 0}, {\"id\": \"Waistcoat\", \"value\": \"Waistcoat\", \"count\": 4, \"count_max_error\": 0}, {\"id\": \"Box\", \"value\": \"Box\", \"count\": 3, \"count_max_error\": 0}, {\"id\": \"Candlestick\", \"value\": \"Candlestick\", \"count\": 3, \"count_max_error\": 0}, {\"id\": \"Corner armchair\", \"value\": \"Corner armchair\", \"count\": 3, \"count_max_error\": 0}, {\"id\": \"Curtain\", \"value\": \"Curtain\", \"count\": 3, \"count_max_error\": 0}, {\"id\": \"Flounce\", \"value\": \"Flounce\", \"count\": 3, \"count_max_error\": 0}, {\"id\": \"Furnishing\", \"value\": \"Furnishing\", \"count\": 3, \"count_max_error\": 0}, {\"id\": \"Hot water jug\", \"value\": \"Hot water jug\", \"count\": 3, \"count_max_error\": 0}, {\"id\": \"Sleeves\", \"value\": \"Sleeves\", \"count\": 3, \"count_max_error\": 0}, {\"id\": \"Stocking purse\", \"value\": \"Stocking purse\", \"count\": 3, \"count_max_error\": 0}, {\"id\": \"Armchair\", \"value\": \"Armchair\", \"count\": 2, \"count_max_error\": 0}, {\"id\": \"Blouse\", \"value\": \"Blouse\", \"count\": 2, \"count_max_error\": 0}, {\"id\": \"Bonnet veil\", \"value\": \"Bonnet veil\", \"count\": 2, \"count_max_error\": 0}, {\"id\": \"Cake basket\", \"value\": \"Cake basket\", \"count\": 2, \"count_max_error\": 0}, {\"id\": \"Coffee pot\", \"value\": \"Coffee pot\", \"count\": 2, \"count_max_error\": 0}, {\"id\": \"Cream jug\", \"value\": \"Cream jug\", \"count\": 2, \"count_max_error\": 0}, {\"id\": \"Design\", \"value\": \"Design\", \"count\": 2, \"count_max_error\": 0}, {\"id\": \"Drawing\", \"value\": \"Drawing\", \"count\": 2, \"count_max_error\": 0}, {\"id\": \"Dress bodice\", \"value\": \"Dress bodice\", \"count\": 2, \"count_max_error\": 0}, {\"id\": \"Ensemble\", \"value\": \"Ensemble\", \"count\": 2, \"count_max_error\": 0}, {\"id\": \"Jacket\", \"value\": \"Jacket\", \"count\": 2, \"count_max_error\": 0}, {\"id\": \"Lappet\", \"value\": \"Lappet\", \"count\": 2, \"count_max_error\": 0}, {\"id\": \"Nightcap\", \"value\": \"Nightcap\", \"count\": 2, \"count_max_error\": 0}, {\"id\": \"Pair of flounces\", \"value\": \"Pair of flounces\", \"count\": 2, \"count_max_error\": 0}, {\"id\": \"Pair of gloves\", \"value\": \"Pair of gloves\", \"count\": 2, \"count_max_error\": 0}, {\"id\": \"Pair of mittens\", \"value\": \"Pair of mittens\", \"count\": 2, \"count_max_error\": 0}, {\"id\": \"Panel\", \"value\": \"Panel\", \"count\": 2, \"count_max_error\": 0}, {\"id\": \"Pantaloons\", \"value\": \"Pantaloons\", \"count\": 2, \"count_max_error\": 0}, {\"id\": \"Purse\", \"value\": \"Purse\", \"count\": 2, \"count_max_error\": 0}, {\"id\": \"Shawl\", \"value\": \"Shawl\", \"count\": 2, \"count_max_error\": 0}, {\"id\": \"Shirt\", \"value\": \"Shirt\", \"count\": 2, \"count_max_error\": 0}, {\"id\": \"Theatre costume\", \"value\": \"Theatre costume\", \"count\": 2, \"count_max_error\": 0}, {\"id\": \"Trousers\", \"value\": \"Trousers\", \"count\": 2, \"count_max_error\": 0}, {\"id\": \"Undershirt\", \"value\": \"Undershirt\", \"count\": 2, \"count_max_error\": 0}, {\"id\": \"Veil\", \"value\": \"Veil\", \"count\": 2, \"count_max_error\": 0}, {\"id\": \"Alb flounce\", \"value\": \"Alb flounce\", \"count\": 1, \"count_max_error\": 0}, {\"id\": \"Aquatint\", \"value\": \"Aquatint\", \"count\": 1, \"count_max_error\": 0}, {\"id\": \"Bag\", \"value\": \"Bag\", \"count\": 1, \"count_max_error\": 0}, {\"id\": \"Ball gown\", \"value\": \"Ball gown\", \"count\": 1, \"count_max_error\": 0}, {\"id\": \"Bed cover\", \"value\": \"Bed cover\", \"count\": 1, \"count_max_error\": 0}, {\"id\": \"Belt clasp\", \"value\": \"Belt clasp\", \"count\": 1, \"count_max_error\": 0}, {\"id\": \"Bobbin\", \"value\": \"Bobbin\", \"count\": 1, \"count_max_error\": 0}, {\"id\": \"Bodice\", \"value\": \"Bodice\", \"count\": 1, \"count_max_error\": 0}, {\"id\": \"Bonnet\", \"value\": \"Bonnet\", \"count\": 1, \"count_max_error\": 0}, {\"id\": \"Book\", \"value\": \"Book\", \"count\": 1, \"count_max_error\": 0}, {\"id\": \"Breeches\", \"value\": \"Breeches\", \"count\": 1, \"count_max_error\": 0}, {\"id\": \"Carpet\", \"value\": \"Carpet\", \"count\": 1, \"count_max_error\": 0}, {\"id\": \"Chair\", \"value\": \"Chair\", \"count\": 1, \"count_max_error\": 0}, {\"id\": \"Chair seat\", \"value\": \"Chair seat\", \"count\": 1, \"count_max_error\": 0}, {\"id\": \"Child's Chikan Embroidered Muslin Gown\", \"value\": \"Child's Chikan Embroidered Muslin Gown\", \"count\": 1, \"count_max_error\": 0}, {\"id\": \"Christening gown\", \"value\": \"Christening gown\", \"count\": 1, \"count_max_error\": 0}, {\"id\": \"Coat and breeches\", \"value\": \"Coat and breeches\", \"count\": 1, \"count_max_error\": 0}, {\"id\": \"Coat and waistcoat\", \"value\": \"Coat and waistcoat\", \"count\": 1, \"count_max_error\": 0}, {\"id\": \"Coffee can\", \"value\": \"Coffee can\", \"count\": 1, \"count_max_error\": 0}, {\"id\": \"Collar\", \"value\": \"Collar\", \"count\": 1, \"count_max_error\": 0}, {\"id\": \"Costume plate\", \"value\": \"Costume plate\", \"count\": 1, \"count_max_error\": 0}, {\"id\": \"Court coat and waistcoat\", \"value\": \"Court coat and waistcoat\", \"count\": 1, \"count_max_error\": 0}, {\"id\": \"Court dress coat\", \"value\": \"Court dress coat\", \"count\": 1, \"count_max_error\": 0}, {\"id\": \"Cruet set\", \"value\": \"Cruet set\", \"count\": 1, \"count_max_error\": 0}, {\"id\": \"Cup\", \"value\": \"Cup\", \"count\": 1, \"count_max_error\": 0}, {\"id\": \"Deceptive glass\", \"value\": \"Deceptive glass\", \"count\": 1, \"count_max_error\": 0}, {\"id\": \"Dress\", \"value\": \"Dress\", \"count\": 1, \"count_max_error\": 0}, {\"id\": \"Dressing table\", \"value\": \"Dressing table\", \"count\": 1, \"count_max_error\": 0}, {\"id\": \"English guitar\", \"value\": \"English guitar\", \"count\": 1, \"count_max_error\": 0}, {\"id\": \"Exercise chair\", \"value\": \"Exercise chair\", \"count\": 1, \"count_max_error\": 0}, {\"id\": \"Exhibition box\", \"value\": \"Exhibition box\", \"count\": 1, \"count_max_error\": 0}, {\"id\": \"Fireplace\", \"value\": \"Fireplace\", \"count\": 1, \"count_max_error\": 0}, {\"id\": \"Flower holder\", \"value\": \"Flower holder\", \"count\": 1, \"count_max_error\": 0}, {\"id\": \"Footed drawers\", \"value\": \"Footed drawers\", \"count\": 1, \"count_max_error\": 0}, {\"id\": \"Frame\", \"value\": \"Frame\", \"count\": 1, \"count_max_error\": 0}, {\"id\": \"Goblet\", \"value\": \"Goblet\", \"count\": 1, \"count_max_error\": 0}, {\"id\": \"Guitar\", \"value\": \"Guitar\", \"count\": 1, \"count_max_error\": 0}, {\"id\": \"Harp-guitar\", \"value\": \"Harp-guitar\", \"count\": 1, \"count_max_error\": 0}, {\"id\": \"Headdress\", \"value\": \"Headdress\", \"count\": 1, \"count_max_error\": 0}, {\"id\": \"Inkstand\", \"value\": \"Inkstand\", \"count\": 1, \"count_max_error\": 0}, {\"id\": \"Jug\", \"value\": \"Jug\", \"count\": 1, \"count_max_error\": 0}, {\"id\": \"Kerchief\", \"value\": \"Kerchief\", \"count\": 1, \"count_max_error\": 0}, {\"id\": \"Mantua\", \"value\": \"Mantua\", \"count\": 1, \"count_max_error\": 0}, {\"id\": \"Overskirt\", \"value\": \"Overskirt\", \"count\": 1, \"count_max_error\": 0}]}}, {\"mode\": \"vega-lite\"});\n",
       "</script>"
      ],
      "text/plain": [
       "alt.LayerChart(...)"
      ]
     },
     "execution_count": 2,
     "metadata": {},
     "output_type": "execute_result"
    }
   ],
   "source": [
    "import requests\n",
    "import altair as alt\n",
    "import pandas as pd\n",
    "\n",
    "req = requests.get('https://api.vam.ac.uk/v2/objects/clusters/object_type/search?q=machine&year_made_from=1780&year_made_to=1820&cluster_size=100')\n",
    "lwm_df = pd.DataFrame(req.json())\n",
    "\n",
    "bars = alt.Chart(lwm_df).mark_bar().encode(\n",
    "    x='count:Q',\n",
    "    y=\"value:O\"\n",
    ")\n",
    "\n",
    "text = bars.mark_text(\n",
    "    align='left', baseline='middle', dx=3\n",
    ").encode(\n",
    "    text='count:Q'\n",
    ")\n",
    "\n",
    "(bars + text).properties(height=1000, title=\"Objects mentioning machine from 1780 to 1820\")"
   ]
  },
  {
   "cell_type": "markdown",
   "metadata": {},
   "source": [
    "So it seems likely that many of these objects were created using some form of machine ('mould' and 'dress fabric' for example), but there are some un-expected objects here that might perhaps be considered machines themselves, including an 'Exhibition Box' and a 'Deceptive Glass'.\n",
    "\n",
    "Let's look in more detail at the [Deceptive Glass](https://collections.vam.ac.uk/item/O3417/), retrieving the image."
   ]
  },
  {
   "cell_type": "markdown",
   "metadata": {},
   "source": [
    "## Deceptive Glass"
   ]
  },
  {
   "cell_type": "code",
   "execution_count": 3,
   "metadata": {},
   "outputs": [
    {
     "data": {
      "text/html": [
       "<div>\n",
       "<style scoped>\n",
       "    .dataframe tbody tr th:only-of-type {\n",
       "        vertical-align: middle;\n",
       "    }\n",
       "\n",
       "    .dataframe tbody tr th {\n",
       "        vertical-align: top;\n",
       "    }\n",
       "\n",
       "    .dataframe thead th {\n",
       "        text-align: right;\n",
       "    }\n",
       "</style>\n",
       "<table border=\"1\" class=\"dataframe\">\n",
       "  <thead>\n",
       "    <tr style=\"text-align: right;\">\n",
       "      <th></th>\n",
       "      <th>accessionNumber</th>\n",
       "      <th>accessionYear</th>\n",
       "      <th>systemNumber</th>\n",
       "      <th>objectType</th>\n",
       "      <th>_primaryTitle</th>\n",
       "      <th>_primaryPlace</th>\n",
       "      <th>_primaryMaker__name</th>\n",
       "      <th>_primaryMaker__association</th>\n",
       "      <th>_primaryDate</th>\n",
       "      <th>_primaryImageId</th>\n",
       "      <th>_sampleMaterial</th>\n",
       "      <th>_sampleTechnique</th>\n",
       "      <th>_sampleStyle</th>\n",
       "      <th>_currentLocation__displayName</th>\n",
       "      <th>_objectContentWarning</th>\n",
       "      <th>_imageContentWarning</th>\n",
       "    </tr>\n",
       "  </thead>\n",
       "  <tbody>\n",
       "    <tr>\n",
       "      <th>0</th>\n",
       "      <td>C.210-1913</td>\n",
       "      <td>1913</td>\n",
       "      <td>O3417</td>\n",
       "      <td>Deceptive glass</td>\n",
       "      <td>NaN</td>\n",
       "      <td>England</td>\n",
       "      <td>Unknown</td>\n",
       "      <td>NaN</td>\n",
       "      <td>ca. 1820-1880</td>\n",
       "      <td>2006AM3610</td>\n",
       "      <td>NaN</td>\n",
       "      <td>NaN</td>\n",
       "      <td>BRITAIN</td>\n",
       "      <td>British Galleries, Room 122b</td>\n",
       "      <td>False</td>\n",
       "      <td>False</td>\n",
       "    </tr>\n",
       "  </tbody>\n",
       "</table>\n",
       "</div>"
      ],
      "text/plain": [
       "  accessionNumber  accessionYear systemNumber       objectType  _primaryTitle  \\\n",
       "0      C.210-1913           1913        O3417  Deceptive glass            NaN   \n",
       "\n",
       "  _primaryPlace _primaryMaker__name  _primaryMaker__association  \\\n",
       "0       England             Unknown                         NaN   \n",
       "\n",
       "    _primaryDate _primaryImageId  _sampleMaterial  _sampleTechnique  \\\n",
       "0  ca. 1820-1880      2006AM3610              NaN               NaN   \n",
       "\n",
       "  _sampleStyle _currentLocation__displayName  _objectContentWarning  \\\n",
       "0      BRITAIN  British Galleries, Room 122b                  False   \n",
       "\n",
       "   _imageContentWarning  \n",
       "0                 False  "
      ]
     },
     "execution_count": 3,
     "metadata": {},
     "output_type": "execute_result"
    }
   ],
   "source": [
    "req = pd.read_csv('https://api.vam.ac.uk/v2/objects/search?q=machine&year_made_from=1780&year_made_to=1820&kw_object_type=deceptive%20glass&response_format=csv&page_size=50')\n",
    "req"
   ]
  },
  {
   "cell_type": "code",
   "execution_count": 1,
   "metadata": {
    "tags": [
     "hide-cell"
    ]
   },
   "outputs": [
    {
     "data": {
      "application/vnd.jupyter.widget-view+json": {
       "model_id": "84a83c31874e4eb5813799d310439757",
       "version_major": 2,
       "version_minor": 0
      },
      "text/plain": [
       "OSDViewer(layout=Layout(height='675px', width='75%'), url='https://framemark.vam.ac.uk/collections/2006AM3610/…"
      ]
     },
     "metadata": {},
     "output_type": "display_data"
    }
   ],
   "source": [
    "## ipyosd not working yet\n",
    "\n",
    "#from ipyosd import OSDViewer\n",
    "#from ipywidgets import Layout\n",
    "#OSDViewer(url=\"https://framemark.vam.ac.uk/collections/2006AM3610/info.json\", layout=Layout(width='75%', height='675px'))"
   ]
  },
  {
   "cell_type": "code",
   "execution_count": 4,
   "metadata": {},
   "outputs": [
    {
     "data": {
      "text/html": [
       "<img src=\"https://framemark.vam.ac.uk/collections/2006AM3610/full/600,/0/default.jpg\"/>"
      ],
      "text/plain": [
       "<IPython.core.display.Image object>"
      ]
     },
     "execution_count": 4,
     "metadata": {},
     "output_type": "execute_result"
    }
   ],
   "source": [
    "from IPython.display import Image\n",
    "\n",
    "Image(url = \"https://framemark.vam.ac.uk/collections/2006AM3610/full/600,/0/default.jpg\")"
   ]
  },
  {
   "cell_type": "markdown",
   "metadata": {},
   "source": [
    "Hmmm, it's not entirely clear what's machine like (or even deceptive) about this. Let's look at the object description:"
   ]
  },
  {
   "cell_type": "code",
   "execution_count": 5,
   "metadata": {},
   "outputs": [
    {
     "data": {
      "text/plain": [
       "\"<b>Object Type</b><br>A modest, entirely plain glass used for ices, perhaps made by the newly invented ice cream-making 'machine'.  Although in outline the same shape as a drinking glass, the bowl is all but solid, allowing only a minimal lick. Made in the mid-19th century, at a time when cheap, press-moulded glass was beginning to become the most available type, a hand-made but undecorated  artefact such as this was still extremely marketable.<br><br><b>Ownership & Use</b><br>Used in cafes, seaside booths and places of entertainment, a smear of ice was spread on the surface and licked off by the customer. The glass was then returned to the seller for immediate use by the next customer.<br><br><b>Materials & Making</b><br>This 'lick' is made in strong, brilliantly clear lead glass.  Hand-blown and tooled, the 'bowl' is virtually solid. Each section of the foot, stem and bowl is made from extra glass added at various stages, and probably at least two people were involved in the making of this glass.\""
      ]
     },
     "execution_count": 5,
     "metadata": {},
     "output_type": "execute_result"
    }
   ],
   "source": [
    "req = requests.get('https://api.vam.ac.uk/v2/museumobject/O3417')\n",
    "object_record = req.json()\n",
    "object_record[\"record\"][\"summaryDescription\"]"
   ]
  },
  {
   "cell_type": "markdown",
   "metadata": {},
   "source": [
    "So, the glass was not made by a machine, but was perhaps designed for use with new ice cream-making \"machines\" from the mid-19th century. "
   ]
  },
  {
   "cell_type": "markdown",
   "metadata": {},
   "source": [
    "```{note}\n",
    "From lessons learnt from recent world events, we do not advise sharing an ice cream licking glass without proper cleaning in-between.\n",
    "```"
   ]
  },
  {
   "cell_type": "markdown",
   "metadata": {},
   "source": [
    "## Exhibition Box"
   ]
  },
  {
   "cell_type": "markdown",
   "metadata": {},
   "source": [
    "Let's go back to look at another of the possible machines from our search query, the \"Exhibition Box\""
   ]
  },
  {
   "cell_type": "code",
   "execution_count": 6,
   "metadata": {},
   "outputs": [
    {
     "data": {
      "text/html": [
       "<div>\n",
       "<style scoped>\n",
       "    .dataframe tbody tr th:only-of-type {\n",
       "        vertical-align: middle;\n",
       "    }\n",
       "\n",
       "    .dataframe tbody tr th {\n",
       "        vertical-align: top;\n",
       "    }\n",
       "\n",
       "    .dataframe thead th {\n",
       "        text-align: right;\n",
       "    }\n",
       "</style>\n",
       "<table border=\"1\" class=\"dataframe\">\n",
       "  <thead>\n",
       "    <tr style=\"text-align: right;\">\n",
       "      <th></th>\n",
       "      <th>accessionNumber</th>\n",
       "      <th>accessionYear</th>\n",
       "      <th>systemNumber</th>\n",
       "      <th>objectType</th>\n",
       "      <th>_primaryTitle</th>\n",
       "      <th>_primaryPlace</th>\n",
       "      <th>_primaryMaker__name</th>\n",
       "      <th>_primaryMaker__association</th>\n",
       "      <th>_primaryDate</th>\n",
       "      <th>_primaryImageId</th>\n",
       "      <th>_sampleMaterial</th>\n",
       "      <th>_sampleTechnique</th>\n",
       "      <th>_sampleStyle</th>\n",
       "      <th>_currentLocation__displayName</th>\n",
       "      <th>_objectContentWarning</th>\n",
       "      <th>_imageContentWarning</th>\n",
       "    </tr>\n",
       "  </thead>\n",
       "  <tbody>\n",
       "    <tr>\n",
       "      <th>0</th>\n",
       "      <td>P.44:1 to 4-1955</td>\n",
       "      <td>1955</td>\n",
       "      <td>O118142</td>\n",
       "      <td>Exhibition box</td>\n",
       "      <td>Showbox</td>\n",
       "      <td>Great Britain</td>\n",
       "      <td>Gainsborough, Thomas</td>\n",
       "      <td>designer</td>\n",
       "      <td>ca. 1781-1782</td>\n",
       "      <td>2021NA2691</td>\n",
       "      <td>Oak</td>\n",
       "      <td>NaN</td>\n",
       "      <td>NaN</td>\n",
       "      <td>Prints &amp; Drawings Study Room, level D</td>\n",
       "      <td>False</td>\n",
       "      <td>False</td>\n",
       "    </tr>\n",
       "  </tbody>\n",
       "</table>\n",
       "</div>"
      ],
      "text/plain": [
       "    accessionNumber  accessionYear systemNumber      objectType _primaryTitle  \\\n",
       "0  P.44:1 to 4-1955           1955      O118142  Exhibition box       Showbox   \n",
       "\n",
       "   _primaryPlace   _primaryMaker__name _primaryMaker__association  \\\n",
       "0  Great Britain  Gainsborough, Thomas                   designer   \n",
       "\n",
       "    _primaryDate _primaryImageId _sampleMaterial  _sampleTechnique  \\\n",
       "0  ca. 1781-1782      2021NA2691             Oak               NaN   \n",
       "\n",
       "   _sampleStyle          _currentLocation__displayName  _objectContentWarning  \\\n",
       "0           NaN  Prints & Drawings Study Room, level D                  False   \n",
       "\n",
       "   _imageContentWarning  \n",
       "0                 False  "
      ]
     },
     "execution_count": 6,
     "metadata": {},
     "output_type": "execute_result"
    }
   ],
   "source": [
    "req = pd.read_csv('https://api.vam.ac.uk/v2/objects/search?q=machine&year_made_from=1780&year_made_to=1820&kw_object_type=Exhibition%20box&response_format=csv&page_size=50')\n",
    "req"
   ]
  },
  {
   "cell_type": "code",
   "execution_count": 2,
   "metadata": {
    "tags": [
     "hide-cell"
    ]
   },
   "outputs": [
    {
     "data": {
      "application/vnd.jupyter.widget-view+json": {
       "model_id": "1455c37ddf114173a74a8654d3f239be",
       "version_major": 2,
       "version_minor": 0
      },
      "text/plain": [
       "OSDViewer(layout=Layout(height='675px', width='75%'), url='https://framemark.vam.ac.uk/collections/2006AE7709/…"
      ]
     },
     "metadata": {},
     "output_type": "display_data"
    }
   ],
   "source": [
    "## ipyosd not working yet\n",
    "\n",
    "#from ipyosd import OSDViewer\n",
    "#from ipywidgets import Layout\n",
    "#OSDViewer(url=\"https://framemark.vam.ac.uk/collections/2006AE7709/info.json\", layout=Layout(width='75%', height='675px'))"
   ]
  },
  {
   "cell_type": "code",
   "execution_count": 7,
   "metadata": {},
   "outputs": [
    {
     "data": {
      "text/html": [
       "<img src=\"https://framemark.vam.ac.uk/collections/2006AE7709/full/600,/0/default.jpg\"/>"
      ],
      "text/plain": [
       "<IPython.core.display.Image object>"
      ]
     },
     "execution_count": 7,
     "metadata": {},
     "output_type": "execute_result"
    }
   ],
   "source": [
    "from IPython.display import Image\n",
    "\n",
    "Image(url = \"https://framemark.vam.ac.uk/collections/2006AE7709/full/600,/0/default.jpg\")"
   ]
  },
  {
   "cell_type": "markdown",
   "metadata": {},
   "source": [
    "Well, this is looking a bit more machine like. The Exhibition Box has a fascinating history, you can read up more on the [object page](https://collections.vam.ac.uk/item/O118142). It would be interesting to see if this \"machine\" (and others of a similiar kind) was discussed in newspapers from the era, perhaps a different data exporation over on newspaper archive websites."
   ]
  },
  {
   "cell_type": "markdown",
   "metadata": {},
   "source": [
    "## Further Work\n",
    "\n",
    "  * Combine more mentions of machines in newspapers with examples of the objects from the V&A collections \n",
    "  * Hopefully the Living with Machines team will be carrying out the very important task of mapping the spread of ice-cream machines throughout the United Kingdom, as reported in regional newspapers."
   ]
  },
  {
   "cell_type": "markdown",
   "metadata": {},
   "source": [
    "# Notebook Updates\n",
    "\n",
    "## 23 June 2024\n",
    "\n",
    "  * Commented out ipyosd cells. Fix a few typos"
   ]
  }
 ],
 "metadata": {
  "kernelspec": {
   "display_name": "Python 3 (ipykernel)",
   "language": "python",
   "name": "python3"
  },
  "language_info": {
   "codemirror_mode": {
    "name": "ipython",
    "version": 3
   },
   "file_extension": ".py",
   "mimetype": "text/x-python",
   "name": "python",
   "nbconvert_exporter": "python",
   "pygments_lexer": "ipython3",
   "version": "3.12.3"
  }
 },
 "nbformat": 4,
 "nbformat_minor": 4
}
