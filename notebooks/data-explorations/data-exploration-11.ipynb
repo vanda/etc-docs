{
 "cells": [
  {
   "cell_type": "markdown",
   "metadata": {},
   "source": [
    "# 11. Parklife\n",
    "\n",
    "```{sidebar} Dataset\n",
    "  * [Wellcome Collection](https://wellcomecollection.org)\n",
    "  * [V&A](https://www.vam.ac.uk/)\n",
    "```\n",
    "\n",
    "World events have lead to an increase in the popularity and usage of local parks. But which is the best park to take a stroll in ? Let's look at the Royal Parks of London depicted in art and medical collections to answer this question comprehensively, from an artistic and scientific viewpoint.\n",
    "\n",
    "First we need to list the major [Royal Parks](https://www.royalparks.org.uk/) (with apologies to Kensington Gardens, Brompton Cemetary and Victoria Tower Gardens that don't make the list) "
   ]
  },
  {
   "cell_type": "code",
   "execution_count": 1,
   "metadata": {},
   "outputs": [],
   "source": [
    "royal_parks = (\n",
    "  \"Hyde Park\",\n",
    "  \"Richmond Park\",\n",
    "  \"Bushy Park\",\n",
    "  \"Green Park\",\n",
    "  \"St James's Park\",\n",
    "  \"Regent's Park\",\n",
    "  \"Greenwich Park\")"
   ]
  },
  {
   "cell_type": "markdown",
   "metadata": {},
   "source": [
    "## Wellcome Collection\n",
    "\n",
    "We can use the Wellcome [API](https://developers.wellcomecollection.org) to get matching objects."
   ]
  },
  {
   "cell_type": "code",
   "execution_count": 3,
   "metadata": {},
   "outputs": [
    {
     "data": {
      "text/html": [
       "<div>\n",
       "<style scoped>\n",
       "    .dataframe tbody tr th:only-of-type {\n",
       "        vertical-align: middle;\n",
       "    }\n",
       "\n",
       "    .dataframe tbody tr th {\n",
       "        vertical-align: top;\n",
       "    }\n",
       "\n",
       "    .dataframe thead th {\n",
       "        text-align: right;\n",
       "    }\n",
       "</style>\n",
       "<table border=\"1\" class=\"dataframe\">\n",
       "  <thead>\n",
       "    <tr style=\"text-align: right;\">\n",
       "      <th></th>\n",
       "      <th>Park</th>\n",
       "      <th>Label</th>\n",
       "      <th>Count</th>\n",
       "    </tr>\n",
       "  </thead>\n",
       "  <tbody>\n",
       "    <tr>\n",
       "      <th>2</th>\n",
       "      <td>Green Park</td>\n",
       "      <td>Pictures</td>\n",
       "      <td>57</td>\n",
       "    </tr>\n",
       "    <tr>\n",
       "      <th>5</th>\n",
       "      <td>Regent's Park</td>\n",
       "      <td>Film</td>\n",
       "      <td>2</td>\n",
       "    </tr>\n",
       "    <tr>\n",
       "      <th>2</th>\n",
       "      <td>Richmond Park</td>\n",
       "      <td>Pictures</td>\n",
       "      <td>2</td>\n",
       "    </tr>\n",
       "    <tr>\n",
       "      <th>0</th>\n",
       "      <td>St James's Park</td>\n",
       "      <td>Books</td>\n",
       "      <td>121</td>\n",
       "    </tr>\n",
       "    <tr>\n",
       "      <th>3</th>\n",
       "      <td>Green Park</td>\n",
       "      <td>Ephemera</td>\n",
       "      <td>11</td>\n",
       "    </tr>\n",
       "  </tbody>\n",
       "</table>\n",
       "</div>"
      ],
      "text/plain": [
       "              Park     Label  Count\n",
       "2       Green Park  Pictures     57\n",
       "5    Regent's Park      Film      2\n",
       "2    Richmond Park  Pictures      2\n",
       "0  St James's Park     Books    121\n",
       "3       Green Park  Ephemera     11"
      ]
     },
     "execution_count": 3,
     "metadata": {},
     "output_type": "execute_result"
    }
   ],
   "source": [
    "import requests\n",
    "import pandas as pd\n",
    "from urllib.parse import quote\n",
    "\n",
    "wellcome_royal_parks_df = pd.DataFrame()\n",
    "\n",
    "for park in royal_parks:\n",
    "  req = requests.get(f\"https://api.wellcomecollection.org/catalogue/v2/works?query={quote(park)}&aggregations=workType\")\n",
    "  wellcome_park_json = req.json()\n",
    "  park_objects = []\n",
    "  for workType in wellcome_park_json['aggregations']['workType']['buckets']:\n",
    "    park_objects.append([park, workType['data']['label'], workType['count']])\n",
    "  park_objects_df = pd.DataFrame(park_objects, columns=['Park', 'Label', 'Count'])  \n",
    "  wellcome_royal_parks_df = wellcome_royal_parks_df._append(park_objects_df)\n",
    "\n",
    "wellcome_royal_parks_df.sample(5)"
   ]
  },
  {
   "cell_type": "markdown",
   "metadata": {},
   "source": [
    "Now we have the data, we can generate the graph showing which park is the most popular at Wellcome."
   ]
  },
  {
   "cell_type": "code",
   "execution_count": 5,
   "metadata": {},
   "outputs": [
    {
     "data": {
      "text/html": [
       "\n",
       "<style>\n",
       "  #altair-viz-e02a7b3502574eb1a7ee26fea710e5c2.vega-embed {\n",
       "    width: 100%;\n",
       "    display: flex;\n",
       "  }\n",
       "\n",
       "  #altair-viz-e02a7b3502574eb1a7ee26fea710e5c2.vega-embed details,\n",
       "  #altair-viz-e02a7b3502574eb1a7ee26fea710e5c2.vega-embed details summary {\n",
       "    position: relative;\n",
       "  }\n",
       "</style>\n",
       "<div id=\"altair-viz-e02a7b3502574eb1a7ee26fea710e5c2\"></div>\n",
       "<script type=\"text/javascript\">\n",
       "  var VEGA_DEBUG = (typeof VEGA_DEBUG == \"undefined\") ? {} : VEGA_DEBUG;\n",
       "  (function(spec, embedOpt){\n",
       "    let outputDiv = document.currentScript.previousElementSibling;\n",
       "    if (outputDiv.id !== \"altair-viz-e02a7b3502574eb1a7ee26fea710e5c2\") {\n",
       "      outputDiv = document.getElementById(\"altair-viz-e02a7b3502574eb1a7ee26fea710e5c2\");\n",
       "    }\n",
       "    const paths = {\n",
       "      \"vega\": \"https://cdn.jsdelivr.net/npm/vega@5?noext\",\n",
       "      \"vega-lib\": \"https://cdn.jsdelivr.net/npm/vega-lib?noext\",\n",
       "      \"vega-lite\": \"https://cdn.jsdelivr.net/npm/vega-lite@5.17.0?noext\",\n",
       "      \"vega-embed\": \"https://cdn.jsdelivr.net/npm/vega-embed@6?noext\",\n",
       "    };\n",
       "\n",
       "    function maybeLoadScript(lib, version) {\n",
       "      var key = `${lib.replace(\"-\", \"\")}_version`;\n",
       "      return (VEGA_DEBUG[key] == version) ?\n",
       "        Promise.resolve(paths[lib]) :\n",
       "        new Promise(function(resolve, reject) {\n",
       "          var s = document.createElement('script');\n",
       "          document.getElementsByTagName(\"head\")[0].appendChild(s);\n",
       "          s.async = true;\n",
       "          s.onload = () => {\n",
       "            VEGA_DEBUG[key] = version;\n",
       "            return resolve(paths[lib]);\n",
       "          };\n",
       "          s.onerror = () => reject(`Error loading script: ${paths[lib]}`);\n",
       "          s.src = paths[lib];\n",
       "        });\n",
       "    }\n",
       "\n",
       "    function showError(err) {\n",
       "      outputDiv.innerHTML = `<div class=\"error\" style=\"color:red;\">${err}</div>`;\n",
       "      throw err;\n",
       "    }\n",
       "\n",
       "    function displayChart(vegaEmbed) {\n",
       "      vegaEmbed(outputDiv, spec, embedOpt)\n",
       "        .catch(err => showError(`Javascript Error: ${err.message}<br>This usually means there's a typo in your chart specification. See the javascript console for the full traceback.`));\n",
       "    }\n",
       "\n",
       "    if(typeof define === \"function\" && define.amd) {\n",
       "      requirejs.config({paths});\n",
       "      require([\"vega-embed\"], displayChart, err => showError(`Error loading script: ${err.message}`));\n",
       "    } else {\n",
       "      maybeLoadScript(\"vega\", \"5\")\n",
       "        .then(() => maybeLoadScript(\"vega-lite\", \"5.17.0\"))\n",
       "        .then(() => maybeLoadScript(\"vega-embed\", \"6\"))\n",
       "        .catch(showError)\n",
       "        .then(() => displayChart(vegaEmbed));\n",
       "    }\n",
       "  })({\"config\": {\"view\": {\"continuousWidth\": 300, \"continuousHeight\": 300}, \"legend\": {\"clipHeight\": 20, \"columns\": 5, \"orient\": \"right\", \"symbolLimit\": 60}}, \"data\": {\"name\": \"data-fcd11c3c3366bfd1eb1628010983cdde\"}, \"mark\": {\"type\": \"bar\", \"cornerRadiusTopLeft\": 3, \"cornerRadiusTopRight\": 3}, \"encoding\": {\"color\": {\"field\": \"Label\", \"type\": \"nominal\"}, \"x\": {\"field\": \"Count\", \"type\": \"quantitative\"}, \"y\": {\"field\": \"Park\", \"type\": \"nominal\"}}, \"height\": 250, \"$schema\": \"https://vega.github.io/schema/vega-lite/v5.17.0.json\", \"datasets\": {\"data-fcd11c3c3366bfd1eb1628010983cdde\": [{\"Park\": \"Hyde Park\", \"Label\": \"Books\", \"Count\": 109}, {\"Park\": \"Hyde Park\", \"Label\": \"Archives and manuscripts\", \"Count\": 54}, {\"Park\": \"Hyde Park\", \"Label\": \"Pictures\", \"Count\": 42}, {\"Park\": \"Hyde Park\", \"Label\": \"Ephemera\", \"Count\": 18}, {\"Park\": \"Hyde Park\", \"Label\": \"Videos\", \"Count\": 4}, {\"Park\": \"Hyde Park\", \"Label\": \"Digital Images\", \"Count\": 3}, {\"Park\": \"Hyde Park\", \"Label\": \"Film\", \"Count\": 2}, {\"Park\": \"Richmond Park\", \"Label\": \"Archives and manuscripts\", \"Count\": 24}, {\"Park\": \"Richmond Park\", \"Label\": \"Books\", \"Count\": 14}, {\"Park\": \"Richmond Park\", \"Label\": \"Pictures\", \"Count\": 2}, {\"Park\": \"Richmond Park\", \"Label\": \"Ephemera\", \"Count\": 1}, {\"Park\": \"Richmond Park\", \"Label\": \"Digital Images\", \"Count\": 1}, {\"Park\": \"Bushy Park\", \"Label\": \"Books\", \"Count\": 1}, {\"Park\": \"Green Park\", \"Label\": \"Books\", \"Count\": 94}, {\"Park\": \"Green Park\", \"Label\": \"Archives and manuscripts\", \"Count\": 78}, {\"Park\": \"Green Park\", \"Label\": \"Pictures\", \"Count\": 57}, {\"Park\": \"Green Park\", \"Label\": \"Ephemera\", \"Count\": 11}, {\"Park\": \"Green Park\", \"Label\": \"Digital Images\", \"Count\": 2}, {\"Park\": \"Green Park\", \"Label\": \"Videos\", \"Count\": 1}, {\"Park\": \"St James's Park\", \"Label\": \"Books\", \"Count\": 121}, {\"Park\": \"St James's Park\", \"Label\": \"Archives and manuscripts\", \"Count\": 98}, {\"Park\": \"St James's Park\", \"Label\": \"Pictures\", \"Count\": 18}, {\"Park\": \"St James's Park\", \"Label\": \"E-books\", \"Count\": 10}, {\"Park\": \"St James's Park\", \"Label\": \"Journals\", \"Count\": 2}, {\"Park\": \"St James's Park\", \"Label\": \"Videos\", \"Count\": 2}, {\"Park\": \"St James's Park\", \"Label\": \"Ephemera\", \"Count\": 2}, {\"Park\": \"St James's Park\", \"Label\": \"Digital Images\", \"Count\": 2}, {\"Park\": \"Regent's Park\", \"Label\": \"Pictures\", \"Count\": 120}, {\"Park\": \"Regent's Park\", \"Label\": \"Archives and manuscripts\", \"Count\": 61}, {\"Park\": \"Regent's Park\", \"Label\": \"Books\", \"Count\": 39}, {\"Park\": \"Regent's Park\", \"Label\": \"Ephemera\", \"Count\": 10}, {\"Park\": \"Regent's Park\", \"Label\": \"Videos\", \"Count\": 2}, {\"Park\": \"Regent's Park\", \"Label\": \"Film\", \"Count\": 2}, {\"Park\": \"Regent's Park\", \"Label\": \"Digital Images\", \"Count\": 1}, {\"Park\": \"Greenwich Park\", \"Label\": \"Pictures\", \"Count\": 33}, {\"Park\": \"Greenwich Park\", \"Label\": \"Books\", \"Count\": 17}, {\"Park\": \"Greenwich Park\", \"Label\": \"Ephemera\", \"Count\": 7}, {\"Park\": \"Greenwich Park\", \"Label\": \"Archives and manuscripts\", \"Count\": 5}, {\"Park\": \"Greenwich Park\", \"Label\": \"E-books\", \"Count\": 3}]}}, {\"mode\": \"vega-lite\"});\n",
       "</script>"
      ],
      "text/plain": [
       "alt.Chart(...)"
      ]
     },
     "execution_count": 5,
     "metadata": {},
     "output_type": "execute_result"
    }
   ],
   "source": [
    "import altair as alt\n",
    "\n",
    "alt.Chart(wellcome_royal_parks_df).mark_bar(\n",
    "    cornerRadiusTopLeft=3,\n",
    "    cornerRadiusTopRight=3\n",
    ").encode(\n",
    "    y='Park',\n",
    "    x='Count:Q',\n",
    "    color='Label:N').configure_legend(\n",
    "    columns=5,\n",
    "    orient='right',\n",
    "    clipHeight=20,\n",
    "    symbolLimit=60).properties(\n",
    "    height=250)"
   ]
  },
  {
   "cell_type": "markdown",
   "metadata": {},
   "source": [
    "So, for Wellcome Collection, Green Park is the place to be. However, taking a look at some of the items in more detail, there might be an element of fuzzy search going on here, as not all the results are about the \"Green Park\" in London. But regardless of this, we can see Richmond Park is not very extensively represented in Wellcome's collections."
   ]
  },
  {
   "cell_type": "markdown",
   "metadata": {},
   "source": [
    "## V&A at the Park\n",
    "\n",
    "Now to run the same query against the [V&A collections](https://collections.vam.ac.uk)"
   ]
  },
  {
   "cell_type": "code",
   "execution_count": 7,
   "metadata": {},
   "outputs": [],
   "source": [
    "import requests\n",
    "import pandas as pd\n",
    "from urllib.parse import quote\n",
    "\n",
    "royal_parks = (\n",
    "  \"Hyde Park\",\n",
    "  \"Richmond Park\",\n",
    "  \"Bushy Park\",\n",
    "  \"Green Park\",\n",
    "  \"St James's Park\",\n",
    "  \"Regent's Park\",\n",
    "  \"Greenwich Park\")\n",
    "\n",
    "vam_royal_parks_df = pd.DataFrame()\n",
    "park_objects = None\n",
    "\n",
    "for park in royal_parks:\n",
    "  park_objects = pd.read_json(f'https://api.vam.ac.uk/v2/objects/clusters/object_type/search?q=\"{quote(park)}\"')\n",
    "  # Potentially remove some object types with very low counts to make the graphic more readable\n",
    "#  park_objects.drop( park_objects[ park_objects['count'] < 5 ].index, inplace=True)\n",
    "  park_objects['park'] = park\n",
    "  vam_royal_parks_df = vam_royal_parks_df._append(park_objects)"
   ]
  },
  {
   "cell_type": "code",
   "execution_count": 8,
   "metadata": {},
   "outputs": [
    {
     "data": {
      "text/html": [
       "\n",
       "<style>\n",
       "  #altair-viz-74cafbd84f9145e29191682a658535c3.vega-embed {\n",
       "    width: 100%;\n",
       "    display: flex;\n",
       "  }\n",
       "\n",
       "  #altair-viz-74cafbd84f9145e29191682a658535c3.vega-embed details,\n",
       "  #altair-viz-74cafbd84f9145e29191682a658535c3.vega-embed details summary {\n",
       "    position: relative;\n",
       "  }\n",
       "</style>\n",
       "<div id=\"altair-viz-74cafbd84f9145e29191682a658535c3\"></div>\n",
       "<script type=\"text/javascript\">\n",
       "  var VEGA_DEBUG = (typeof VEGA_DEBUG == \"undefined\") ? {} : VEGA_DEBUG;\n",
       "  (function(spec, embedOpt){\n",
       "    let outputDiv = document.currentScript.previousElementSibling;\n",
       "    if (outputDiv.id !== \"altair-viz-74cafbd84f9145e29191682a658535c3\") {\n",
       "      outputDiv = document.getElementById(\"altair-viz-74cafbd84f9145e29191682a658535c3\");\n",
       "    }\n",
       "    const paths = {\n",
       "      \"vega\": \"https://cdn.jsdelivr.net/npm/vega@5?noext\",\n",
       "      \"vega-lib\": \"https://cdn.jsdelivr.net/npm/vega-lib?noext\",\n",
       "      \"vega-lite\": \"https://cdn.jsdelivr.net/npm/vega-lite@5.17.0?noext\",\n",
       "      \"vega-embed\": \"https://cdn.jsdelivr.net/npm/vega-embed@6?noext\",\n",
       "    };\n",
       "\n",
       "    function maybeLoadScript(lib, version) {\n",
       "      var key = `${lib.replace(\"-\", \"\")}_version`;\n",
       "      return (VEGA_DEBUG[key] == version) ?\n",
       "        Promise.resolve(paths[lib]) :\n",
       "        new Promise(function(resolve, reject) {\n",
       "          var s = document.createElement('script');\n",
       "          document.getElementsByTagName(\"head\")[0].appendChild(s);\n",
       "          s.async = true;\n",
       "          s.onload = () => {\n",
       "            VEGA_DEBUG[key] = version;\n",
       "            return resolve(paths[lib]);\n",
       "          };\n",
       "          s.onerror = () => reject(`Error loading script: ${paths[lib]}`);\n",
       "          s.src = paths[lib];\n",
       "        });\n",
       "    }\n",
       "\n",
       "    function showError(err) {\n",
       "      outputDiv.innerHTML = `<div class=\"error\" style=\"color:red;\">${err}</div>`;\n",
       "      throw err;\n",
       "    }\n",
       "\n",
       "    function displayChart(vegaEmbed) {\n",
       "      vegaEmbed(outputDiv, spec, embedOpt)\n",
       "        .catch(err => showError(`Javascript Error: ${err.message}<br>This usually means there's a typo in your chart specification. See the javascript console for the full traceback.`));\n",
       "    }\n",
       "\n",
       "    if(typeof define === \"function\" && define.amd) {\n",
       "      requirejs.config({paths});\n",
       "      require([\"vega-embed\"], displayChart, err => showError(`Error loading script: ${err.message}`));\n",
       "    } else {\n",
       "      maybeLoadScript(\"vega\", \"5\")\n",
       "        .then(() => maybeLoadScript(\"vega-lite\", \"5.17.0\"))\n",
       "        .then(() => maybeLoadScript(\"vega-embed\", \"6\"))\n",
       "        .catch(showError)\n",
       "        .then(() => displayChart(vegaEmbed));\n",
       "    }\n",
       "  })({\"config\": {\"view\": {\"continuousWidth\": 300, \"continuousHeight\": 300}, \"legend\": {\"clipHeight\": 20, \"columns\": 5, \"orient\": \"right\", \"symbolLimit\": 60}}, \"data\": {\"name\": \"data-4e1eb15a9ef104c195788a0c672a4d9d\"}, \"mark\": {\"type\": \"bar\", \"cornerRadiusTopLeft\": 3, \"cornerRadiusTopRight\": 3}, \"encoding\": {\"color\": {\"field\": \"value\", \"type\": \"nominal\"}, \"x\": {\"field\": \"count\", \"type\": \"quantitative\"}, \"y\": {\"field\": \"park\", \"type\": \"nominal\"}}, \"height\": 250, \"$schema\": \"https://vega.github.io/schema/vega-lite/v5.17.0.json\", \"datasets\": {\"data-4e1eb15a9ef104c195788a0c672a4d9d\": [{\"id\": \"Photograph\", \"value\": \"Photograph\", \"count\": 102, \"count_max_error\": 0, \"park\": \"Hyde Park\"}, {\"id\": \"Print\", \"value\": \"Print\", \"count\": 63, \"count_max_error\": 0, \"park\": \"Hyde Park\"}, {\"id\": \"Architectural drawing\", \"value\": \"Architectural drawing\", \"count\": 42, \"count_max_error\": 0, \"park\": \"Hyde Park\"}, {\"id\": \"Sweater\", \"value\": \"Sweater\", \"count\": 23, \"count_max_error\": 0, \"park\": \"Hyde Park\"}, {\"id\": \"Drawing\", \"value\": \"Drawing\", \"count\": 22, \"count_max_error\": 0, \"park\": \"Hyde Park\"}, {\"id\": \"Medal\", \"value\": \"Medal\", \"count\": 20, \"count_max_error\": 0, \"park\": \"Hyde Park\"}, {\"id\": \"Watercolour\", \"value\": \"Watercolour\", \"count\": 20, \"count_max_error\": 0, \"park\": \"Hyde Park\"}, {\"id\": \"Paper peepshow\", \"value\": \"Paper peepshow\", \"count\": 14, \"count_max_error\": 0, \"park\": \"Hyde Park\"}, {\"id\": \"Lithograph\", \"value\": \"Lithograph\", \"count\": 11, \"count_max_error\": 0, \"park\": \"Hyde Park\"}, {\"id\": \"Poster\", \"value\": \"Poster\", \"count\": 10, \"count_max_error\": 0, \"park\": \"Hyde Park\"}, {\"id\": \"Design\", \"value\": \"Design\", \"count\": 9, \"count_max_error\": 0, \"park\": \"Hyde Park\"}, {\"id\": \"Model\", \"value\": \"Model\", \"count\": 8, \"count_max_error\": 0, \"park\": \"Hyde Park\"}, {\"id\": \"watercolour\", \"value\": \"watercolour\", \"count\": 8, \"count_max_error\": 0, \"park\": \"Hyde Park\"}, {\"id\": \"Scarf\", \"value\": \"Scarf\", \"count\": 7, \"count_max_error\": 0, \"park\": \"Hyde Park\"}, {\"id\": \"Tile\", \"value\": \"Tile\", \"count\": 6, \"count_max_error\": 0, \"park\": \"Hyde Park\"}, {\"id\": \"Wallpaper\", \"value\": \"Wallpaper\", \"count\": 6, \"count_max_error\": 0, \"park\": \"Hyde Park\"}, {\"id\": \"Shawl\", \"value\": \"Shawl\", \"count\": 5, \"count_max_error\": 0, \"park\": \"Hyde Park\"}, {\"id\": \"Statue\", \"value\": \"Statue\", \"count\": 5, \"count_max_error\": 0, \"park\": \"Hyde Park\"}, {\"id\": \"Armchair\", \"value\": \"Armchair\", \"count\": 4, \"count_max_error\": 0, \"park\": \"Hyde Park\"}, {\"id\": \"Book\", \"value\": \"Book\", \"count\": 4, \"count_max_error\": 0, \"park\": \"Hyde Park\"}, {\"id\": \"Poster\", \"value\": \"Poster\", \"count\": 7, \"count_max_error\": 0, \"park\": \"Richmond Park\"}, {\"id\": \"Print\", \"value\": \"Print\", \"count\": 6, \"count_max_error\": 0, \"park\": \"Richmond Park\"}, {\"id\": \"Photograph\", \"value\": \"Photograph\", \"count\": 5, \"count_max_error\": 0, \"park\": \"Richmond Park\"}, {\"id\": \"Watercolour\", \"value\": \"Watercolour\", \"count\": 5, \"count_max_error\": 0, \"park\": \"Richmond Park\"}, {\"id\": \"Drawing\", \"value\": \"Drawing\", \"count\": 4, \"count_max_error\": 0, \"park\": \"Richmond Park\"}, {\"id\": \"Architectural drawing\", \"value\": \"Architectural drawing\", \"count\": 3, \"count_max_error\": 0, \"park\": \"Richmond Park\"}, {\"id\": \"Panel\", \"value\": \"Panel\", \"count\": 3, \"count_max_error\": 0, \"park\": \"Richmond Park\"}, {\"id\": \"Medal\", \"value\": \"Medal\", \"count\": 2, \"count_max_error\": 0, \"park\": \"Richmond Park\"}, {\"id\": \"Camera\", \"value\": \"Camera\", \"count\": 1, \"count_max_error\": 0, \"park\": \"Richmond Park\"}, {\"id\": \"Hall stool\", \"value\": \"Hall stool\", \"count\": 1, \"count_max_error\": 0, \"park\": \"Richmond Park\"}, {\"id\": \"Poster Design\", \"value\": \"Poster Design\", \"count\": 1, \"count_max_error\": 0, \"park\": \"Richmond Park\"}, {\"id\": \"Prayer wheel\", \"value\": \"Prayer wheel\", \"count\": 1, \"count_max_error\": 0, \"park\": \"Richmond Park\"}, {\"id\": \"Scroll Painting\", \"value\": \"Scroll Painting\", \"count\": 1, \"count_max_error\": 0, \"park\": \"Richmond Park\"}, {\"id\": \"Wall bracket\", \"value\": \"Wall bracket\", \"count\": 1, \"count_max_error\": 0, \"park\": \"Richmond Park\"}, {\"id\": \"Wash\", \"value\": \"Wash\", \"count\": 1, \"count_max_error\": 0, \"park\": \"Richmond Park\"}, {\"id\": \"Poster\", \"value\": \"Poster\", \"count\": 4, \"count_max_error\": 0, \"park\": \"Bushy Park\"}, {\"id\": \"Photograph\", \"value\": \"Photograph\", \"count\": 2, \"count_max_error\": 0, \"park\": \"Bushy Park\"}, {\"id\": \"Print\", \"value\": \"Print\", \"count\": 1, \"count_max_error\": 0, \"park\": \"Bushy Park\"}, {\"id\": \"Architectural drawing\", \"value\": \"Architectural drawing\", \"count\": 13, \"count_max_error\": 0, \"park\": \"Green Park\"}, {\"id\": \"Print\", \"value\": \"Print\", \"count\": 6, \"count_max_error\": 0, \"park\": \"Green Park\"}, {\"id\": \"Photograph\", \"value\": \"Photograph\", \"count\": 4, \"count_max_error\": 0, \"park\": \"Green Park\"}, {\"id\": \"Drawing\", \"value\": \"Drawing\", \"count\": 2, \"count_max_error\": 0, \"park\": \"Green Park\"}, {\"id\": \"Armchair\", \"value\": \"Armchair\", \"count\": 1, \"count_max_error\": 0, \"park\": \"Green Park\"}, {\"id\": \"Lithograph\", \"value\": \"Lithograph\", \"count\": 1, \"count_max_error\": 0, \"park\": \"Green Park\"}, {\"id\": \"Relief\", \"value\": \"Relief\", \"count\": 1, \"count_max_error\": 0, \"park\": \"Green Park\"}, {\"id\": \"Vase\", \"value\": \"Vase\", \"count\": 1, \"count_max_error\": 0, \"park\": \"Green Park\"}, {\"id\": \"Photograph\", \"value\": \"Photograph\", \"count\": 23, \"count_max_error\": 0, \"park\": \"St James's Park\"}, {\"id\": \"Print\", \"value\": \"Print\", \"count\": 14, \"count_max_error\": 0, \"park\": \"St James's Park\"}, {\"id\": \"Poster\", \"value\": \"Poster\", \"count\": 8, \"count_max_error\": 0, \"park\": \"St James's Park\"}, {\"id\": \"Architectural drawing\", \"value\": \"Architectural drawing\", \"count\": 7, \"count_max_error\": 0, \"park\": \"St James's Park\"}, {\"id\": \"Paper peepshow\", \"value\": \"Paper peepshow\", \"count\": 6, \"count_max_error\": 0, \"park\": \"St James's Park\"}, {\"id\": \"Drawing\", \"value\": \"Drawing\", \"count\": 4, \"count_max_error\": 0, \"park\": \"St James's Park\"}, {\"id\": \"Oil Painting\", \"value\": \"Oil Painting\", \"count\": 3, \"count_max_error\": 0, \"park\": \"St James's Park\"}, {\"id\": \"Watercolour\", \"value\": \"Watercolour\", \"count\": 3, \"count_max_error\": 0, \"park\": \"St James's Park\"}, {\"id\": \"Lithograph\", \"value\": \"Lithograph\", \"count\": 2, \"count_max_error\": 0, \"park\": \"St James's Park\"}, {\"id\": \"Design\", \"value\": \"Design\", \"count\": 1, \"count_max_error\": 0, \"park\": \"St James's Park\"}, {\"id\": \"Set design\", \"value\": \"Set design\", \"count\": 1, \"count_max_error\": 0, \"park\": \"St James's Park\"}, {\"id\": \"Song sheet\", \"value\": \"Song sheet\", \"count\": 1, \"count_max_error\": 0, \"park\": \"St James's Park\"}, {\"id\": \"Statue\", \"value\": \"Statue\", \"count\": 1, \"count_max_error\": 0, \"park\": \"St James's Park\"}, {\"id\": \"Tile\", \"value\": \"Tile\", \"count\": 1, \"count_max_error\": 0, \"park\": \"St James's Park\"}, {\"id\": \"print\", \"value\": \"print\", \"count\": 1, \"count_max_error\": 0, \"park\": \"St James's Park\"}, {\"id\": \"Artist's multiple\", \"value\": \"Artist's multiple\", \"count\": 27, \"count_max_error\": 0, \"park\": \"Regent's Park\"}, {\"id\": \"Poster\", \"value\": \"Poster\", \"count\": 24, \"count_max_error\": 0, \"park\": \"Regent's Park\"}, {\"id\": \"Costume design\", \"value\": \"Costume design\", \"count\": 21, \"count_max_error\": 0, \"park\": \"Regent's Park\"}, {\"id\": \"Photograph\", \"value\": \"Photograph\", \"count\": 19, \"count_max_error\": 0, \"park\": \"Regent's Park\"}, {\"id\": \"Watercolour\", \"value\": \"Watercolour\", \"count\": 12, \"count_max_error\": 0, \"park\": \"Regent's Park\"}, {\"id\": \"Print\", \"value\": \"Print\", \"count\": 10, \"count_max_error\": 0, \"park\": \"Regent's Park\"}, {\"id\": \"Drawing\", \"value\": \"Drawing\", \"count\": 8, \"count_max_error\": 0, \"park\": \"Regent's Park\"}, {\"id\": \"Architectural drawing\", \"value\": \"Architectural drawing\", \"count\": 7, \"count_max_error\": 0, \"park\": \"Regent's Park\"}, {\"id\": \"Dress\", \"value\": \"Dress\", \"count\": 6, \"count_max_error\": 0, \"park\": \"Regent's Park\"}, {\"id\": \"Paper peepshow\", \"value\": \"Paper peepshow\", \"count\": 6, \"count_max_error\": 0, \"park\": \"Regent's Park\"}, {\"id\": \"Token\", \"value\": \"Token\", \"count\": 5, \"count_max_error\": 0, \"park\": \"Regent's Park\"}, {\"id\": \"Theatre costume\", \"value\": \"Theatre costume\", \"count\": 4, \"count_max_error\": 0, \"park\": \"Regent's Park\"}, {\"id\": \"Jug\", \"value\": \"Jug\", \"count\": 3, \"count_max_error\": 0, \"park\": \"Regent's Park\"}, {\"id\": \"Chair\", \"value\": \"Chair\", \"count\": 2, \"count_max_error\": 0, \"park\": \"Regent's Park\"}, {\"id\": \"Design\", \"value\": \"Design\", \"count\": 2, \"count_max_error\": 0, \"park\": \"Regent's Park\"}, {\"id\": \"Etching\", \"value\": \"Etching\", \"count\": 2, \"count_max_error\": 0, \"park\": \"Regent's Park\"}, {\"id\": \"Jacket\", \"value\": \"Jacket\", \"count\": 2, \"count_max_error\": 0, \"park\": \"Regent's Park\"}, {\"id\": \"Pitcher\", \"value\": \"Pitcher\", \"count\": 2, \"count_max_error\": 0, \"park\": \"Regent's Park\"}, {\"id\": \"Portfolio\", \"value\": \"Portfolio\", \"count\": 2, \"count_max_error\": 0, \"park\": \"Regent's Park\"}, {\"id\": \"token\", \"value\": \"token\", \"count\": 2, \"count_max_error\": 0, \"park\": \"Regent's Park\"}, {\"id\": \"Print\", \"value\": \"Print\", \"count\": 6, \"count_max_error\": 0, \"park\": \"Greenwich Park\"}, {\"id\": \"Poster\", \"value\": \"Poster\", \"count\": 2, \"count_max_error\": 0, \"park\": \"Greenwich Park\"}, {\"id\": \"Watercolour\", \"value\": \"Watercolour\", \"count\": 2, \"count_max_error\": 0, \"park\": \"Greenwich Park\"}, {\"id\": \"Armour design\", \"value\": \"Armour design\", \"count\": 1, \"count_max_error\": 0, \"park\": \"Greenwich Park\"}, {\"id\": \"Design\", \"value\": \"Design\", \"count\": 1, \"count_max_error\": 0, \"park\": \"Greenwich Park\"}, {\"id\": \"Drawing\", \"value\": \"Drawing\", \"count\": 1, \"count_max_error\": 0, \"park\": \"Greenwich Park\"}, {\"id\": \"Furnishing fabric\", \"value\": \"Furnishing fabric\", \"count\": 1, \"count_max_error\": 0, \"park\": \"Greenwich Park\"}, {\"id\": \"Handkerchief\", \"value\": \"Handkerchief\", \"count\": 1, \"count_max_error\": 0, \"park\": \"Greenwich Park\"}, {\"id\": \"Oil painting\", \"value\": \"Oil painting\", \"count\": 1, \"count_max_error\": 0, \"park\": \"Greenwich Park\"}, {\"id\": \"Photograph\", \"value\": \"Photograph\", \"count\": 1, \"count_max_error\": 0, \"park\": \"Greenwich Park\"}, {\"id\": \"Playbill\", \"value\": \"Playbill\", \"count\": 1, \"count_max_error\": 0, \"park\": \"Greenwich Park\"}, {\"id\": \"Set design\", \"value\": \"Set design\", \"count\": 1, \"count_max_error\": 0, \"park\": \"Greenwich Park\"}, {\"id\": \"drawing\", \"value\": \"drawing\", \"count\": 1, \"count_max_error\": 0, \"park\": \"Greenwich Park\"}, {\"id\": \"watercolour\", \"value\": \"watercolour\", \"count\": 1, \"count_max_error\": 0, \"park\": \"Greenwich Park\"}]}}, {\"mode\": \"vega-lite\"});\n",
       "</script>"
      ],
      "text/plain": [
       "alt.Chart(...)"
      ]
     },
     "execution_count": 8,
     "metadata": {},
     "output_type": "execute_result"
    }
   ],
   "source": [
    "import altair as alt\n",
    "\n",
    "alt.Chart(vam_royal_parks_df).mark_bar(\n",
    "    cornerRadiusTopLeft=3,\n",
    "    cornerRadiusTopRight=3\n",
    ").encode(\n",
    "    y='park',\n",
    "    x='count:Q',\n",
    "    color='value:N').configure_legend(\n",
    "    columns=5,\n",
    "    orient='right',\n",
    "    clipHeight=20,\n",
    "    symbolLimit=60).properties(\n",
    "    height=250)"
   ]
  },
  {
   "cell_type": "markdown",
   "metadata": {},
   "source": [
    "A clear victory for [Hyde Park](https://collections.vam.ac.uk/search/?q=%22hyde%20park%22&images_exist=true&page=1) there (helped hugely by the [Great Exhibition](https://collections.vam.ac.uk/search/?q=great%20exhibition&images_exist=true&page=1)), and perhaps Bushy Park is a bit too exclusive to be drawn or painted. As with Wellcome, some of these items are not really related to the park, but just have the name in the title or description somewhere. A more precise count could be achieved by using a place filter instead, but not all the parks have identifiers, so a text search has to do for now."
   ]
  },
  {
   "cell_type": "markdown",
   "metadata": {},
   "source": [
    "## Conclusion\n",
    "\n",
    "Further research is needed, probably involving picnics."
   ]
  },
  {
   "cell_type": "markdown",
   "metadata": {},
   "source": [
    "# Notebook Updates\n",
    "\n",
    "## 24 June 2024\n",
    "\n",
    "  * Update append to _append in Pandas DataFrame calls\n",
    "  * Removed unneeded import of test data"
   ]
  }
 ],
 "metadata": {
  "kernelspec": {
   "display_name": "Python 3 (ipykernel)",
   "language": "python",
   "name": "python3"
  },
  "language_info": {
   "codemirror_mode": {
    "name": "ipython",
    "version": 3
   },
   "file_extension": ".py",
   "mimetype": "text/x-python",
   "name": "python",
   "nbconvert_exporter": "python",
   "pygments_lexer": "ipython3",
   "version": "3.12.3"
  }
 },
 "nbformat": 4,
 "nbformat_minor": 4
}
