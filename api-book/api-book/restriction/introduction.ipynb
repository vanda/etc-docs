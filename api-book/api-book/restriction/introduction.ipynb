{
 "cells": [
  {
   "cell_type": "markdown",
   "metadata": {},
   "source": [
    "(restriction:top)=\n",
    "\n",
    "# Restriction\n",
    "\n",
    "A restriction can be applied in combination with {ref}`searching:top` or {ref}`filtering:top` to remove irrelevant matching results. You can also just use a restriction by itself, but this is likely to return too many results to be useful."
   ]
  },
  {
   "cell_type": "markdown",
   "metadata": {},
   "source": [
    "## Restricting by year made"
   ]
  },
  {
   "cell_type": "markdown",
   "metadata": {},
   "source": [
    "One way to narrow down overwhelming results from a search is to restrict them to a time period of particular interest, if it is known. These parameters allow you to give a range of years of interest for when the object was made.\n",
    "\n",
    "Be aware that many objects have uncertain production dates; the further back in time the larger this production date uncertainty is likely to be. For example, an object made in the 16th century might only have an estimated date to within the century or half century range. This means there are often two ranges that need to be compared, the range you specify in the query and the range of the objects production date. We include in the response any object records where these two ranges overlap, even if it's just by a year. For example, if you query for any objects made from 1700 to 1750, an object with a estimated production date range of 1650 to 1700 would be included in the returned object records.\n",
    "\n",
    "If you need to use BC/BCE years you need to enter them as a negative number, for example '429BC' is '-429'.\n",
    "\n",
    "If you only use the year_made_from parameter, this will include all object records from that given year to the heat death of the current universe (inclusive).\n",
    "\n",
    "If you only use the year_made_to parameter, this will cover all object records from the birth of the current universe to that given year (inclusive)."
   ]
  },
  {
   "cell_type": "code",
   "execution_count": 1,
   "metadata": {},
   "outputs": [
    {
     "name": "stdout",
     "output_type": "stream",
     "text": [
      "There are 8 objects catalogued that were made, depict or are associated with the city of Cork during the period 1800 to 1900\n"
     ]
    }
   ],
   "source": [
    "import requests\n",
    "req = requests.get('https://api.vam.ac.uk/v2/objects/search?id_place=x33164&year_made_from=1800&year_made_to=1900')\n",
    "object_data = req.json()\n",
    "object_info = object_data[\"info\"]\n",
    "object_records = object_data[\"records\"]\n",
    "record_count = object_info[\"record_count\"]\n",
    "print(f\"There are {record_count} objects catalogued that were made, depict or are associated with the city of Cork during the period 1800 to 1900\")"
   ]
  },
  {
   "cell_type": "markdown",
   "metadata": {},
   "source": [
    "## Restricting by year accessioned \n",
    "\n",
    "Similiarily to above, this lets you find when an object was accessioned into the V&A collection. In this case the year of accession is certain (compared to production dates), but be aware this might not have been when the object first arrived at the museum."
   ]
  },
  {
   "cell_type": "code",
   "execution_count": 2,
   "metadata": {},
   "outputs": [
    {
     "name": "stdout",
     "output_type": "stream",
     "text": [
      "There are 46723 objects catalogued that were accessioned during the period 2015 to 2020\n"
     ]
    }
   ],
   "source": [
    "import requests\n",
    "req = requests.get('https://api.vam.ac.uk/v2/objects/search?year_accessioned_from=2015&year_accessioned_to=2020')\n",
    "object_data = req.json()\n",
    "object_info = object_data[\"info\"]\n",
    "object_records = object_data[\"records\"]\n",
    "record_count = object_info[\"record_count\"]\n",
    "print(f\"There are {record_count} objects catalogued that were accessioned during the period 2015 to 2020\")"
   ]
  },
  {
   "cell_type": "markdown",
   "metadata": {},
   "source": [
    "## Restricting by images existing\n",
    "\n",
    "This parameter (images_exist=1) restricts your results to only those object records that have object images available to show online."
   ]
  },
  {
   "cell_type": "code",
   "execution_count": 3,
   "metadata": {},
   "outputs": [
    {
     "name": "stdout",
     "output_type": "stream",
     "text": [
      "There are 4 objects that were made, depict or are associated with Stavanger, Norway and have images available online\n"
     ]
    }
   ],
   "source": [
    "import requests\n",
    "req = requests.get('https://api.vam.ac.uk/v2/objects/search?id_place=x41085&images_exist=1')\n",
    "object_data = req.json()\n",
    "object_info = object_data[\"info\"]\n",
    "object_records = object_data[\"records\"]\n",
    "record_count = object_info[\"record_count\"]\n",
    "print(f\"There are {record_count} objects that were made, depict or are associated with Stavanger, Norway and have images available online\")"
   ]
  },
  {
   "cell_type": "markdown",
   "metadata": {},
   "source": [
    "## Restricting by image size\n",
    "\n",
    "This further lets you restrict results to only those that have larger images available to show. The following parameter options are currently available:\n",
    "  * 0 - Equivalant to images_exist above, this returns object records that have images of any size available\n",
    "  * 1 - This returns object records that only have images available upto 768 pixels on the longest length\n",
    "  * 2 - This returns object records that have images available upto 2500 pixels on the longest length"
   ]
  },
  {
   "cell_type": "code",
   "execution_count": 4,
   "metadata": {},
   "outputs": [
    {
     "name": "stdout",
     "output_type": "stream",
     "text": [
      "There are 44 objects that were made, depict or are associated with Melbourne, Australia that have 2500px images available\n"
     ]
    }
   ],
   "source": [
    "import requests\n",
    "req = requests.get('https://api.vam.ac.uk/v2/objects/search?id_place=x32322&image_restrict=2')\n",
    "object_data = req.json()\n",
    "object_info = object_data[\"info\"]\n",
    "object_records = object_data[\"records\"]\n",
    "record_count = object_info[\"record_count\"]\n",
    "print(f\"There are {record_count} objects that were made, depict or are associated with Melbourne, Australia that have 2500px images available\")"
   ]
  },
  {
   "cell_type": "markdown",
   "metadata": {},
   "source": [
    "## Restricting by abundance of data"
   ]
  },
  {
   "cell_type": "markdown",
   "metadata": {},
   "source": [
    "This parameter ('data_restrict') let you select records depending on the extent of cataloguing. The parameter options are:\n",
    "  * basic_only - Matches object records with only a few fields populated, at an early stage of cataloguing\n",
    "  * physical_only - Matches only object records that have more fields populated, typically fields relating to the physical characteristics of the object such as Materials and Techniques\n",
    "  * physical_plus - Matches basic_only records and object records that have more fields populated, typically fields relating to the physical characteristics of the object such as Materials and Techniques\n",
    "  * descriptive_only - Matches only object records that usually have the most fields populated including the more descriptive fields such as summaryDescription."
   ]
  },
  {
   "cell_type": "code",
   "execution_count": 6,
   "metadata": {},
   "outputs": [
    {
     "name": "stdout",
     "output_type": "stream",
     "text": [
      "There are 150 objects records that mention the word 'Boston' and have basic data available\n"
     ]
    }
   ],
   "source": [
    "import requests\n",
    "req = requests.get('https://api.vam.ac.uk/v2/objects/search?q=Boston&data_restrict=basic_only')\n",
    "object_data = req.json()\n",
    "object_info = object_data[\"info\"]\n",
    "object_records = object_data[\"records\"]\n",
    "record_count = object_info[\"record_count\"]\n",
    "print(f\"There are {record_count} objects records that mention the word 'Boston' and have basic data available\")"
   ]
  },
  {
   "cell_type": "code",
   "execution_count": 6,
   "metadata": {},
   "outputs": [
    {
     "name": "stdout",
     "output_type": "stream",
     "text": [
      "There are 291 objects records that mention the word 'Boston' and have basic_plus data available\n"
     ]
    }
   ],
   "source": [
    "import requests\n",
    "req = requests.get('https://api.vam.ac.uk/v2/objects/search?q=Boston&data_restrict=physical_only')\n",
    "object_data = req.json()\n",
    "object_info = object_data[\"info\"]\n",
    "object_records = object_data[\"records\"]\n",
    "record_count = object_info[\"record_count\"]\n",
    "print(f\"There are {record_count} objects records that mention the word 'Boston' and have basic_plus data available\")"
   ]
  },
  {
   "cell_type": "code",
   "execution_count": 8,
   "metadata": {},
   "outputs": [
    {
     "name": "stdout",
     "output_type": "stream",
     "text": [
      "There are 0 objects records that mention the word 'Boston' and have physical_plus data available\n"
     ]
    }
   ],
   "source": [
    "import requests\n",
    "req = requests.get('https://api.vam.ac.uk/v2/objects/search?q=Boston&data_restrict=physical_plus')\n",
    "object_data = req.json()\n",
    "object_info = object_data[\"info\"]\n",
    "object_records = object_data[\"records\"]\n",
    "record_count = object_info[\"record_count\"]\n",
    "print(f\"There are {record_count} objects records that mention the word 'Boston' and have physical_plus data available\")"
   ]
  },
  {
   "cell_type": "code",
   "execution_count": 10,
   "metadata": {},
   "outputs": [
    {
     "name": "stdout",
     "output_type": "stream",
     "text": [
      "There are 653 objects records that mention the word 'Boston' and have descriptive data only\n"
     ]
    }
   ],
   "source": [
    "import requests\n",
    "req = requests.get('https://api.vam.ac.uk/v2/objects/search?q=Boston&data_restrict=descriptive_only')\n",
    "object_data = req.json()\n",
    "object_info = object_data[\"info\"]\n",
    "object_records = object_data[\"records\"]\n",
    "record_count = object_info[\"record_count\"]\n",
    "print(f\"There are {record_count} objects records that mention the word 'Boston' and have descriptive_only data only\")"
   ]
  },
  {
   "cell_type": "markdown",
   "metadata": {},
   "source": [
    "## Restricting by on display"
   ]
  },
  {
   "cell_type": "markdown",
   "metadata": {},
   "source": [
    "This parameter ('on_display_at') lets you restrict object record results to those that are currently on display at a V&A site. The current options are:\n",
    "  * 'southken' - South Kensington\n",
    "  * 'dundee' - - V&A Dundee\n",
    "  * 'moc' - Museum of Childhood\n",
    "  * 'wed' - V&A Wedgwood Collection"
   ]
  },
  {
   "cell_type": "code",
   "execution_count": 5,
   "metadata": {},
   "outputs": [
    {
     "name": "stdout",
     "output_type": "stream",
     "text": [
      "There are 1 objects record(s) that mention the word 'Viking' and are on display at V&A Dundee\n"
     ]
    }
   ],
   "source": [
    "import requests\n",
    "req = requests.get('https://api.vam.ac.uk/v2/objects/search?q=viking&on_display_at=dundee')\n",
    "object_data = req.json()\n",
    "object_info = object_data[\"info\"]\n",
    "object_records = object_data[\"records\"]\n",
    "record_count = object_info[\"record_count\"]\n",
    "print(f\"There are {record_count} objects record(s) that mention the word 'Viking' and are on display at V&A Dundee\")"
   ]
  },
  {
   "cell_type": "code",
   "execution_count": null,
   "metadata": {},
   "outputs": [],
   "source": []
  }
 ],
 "metadata": {
  "kernelspec": {
   "display_name": "Python 3",
   "language": "python",
   "name": "python3"
  },
  "language_info": {
   "codemirror_mode": {
    "name": "ipython",
    "version": 3
   },
   "file_extension": ".py",
   "mimetype": "text/x-python",
   "name": "python",
   "nbconvert_exporter": "python",
   "pygments_lexer": "ipython3",
   "version": "3.8.10"
  }
 },
 "nbformat": 4,
 "nbformat_minor": 4
}
